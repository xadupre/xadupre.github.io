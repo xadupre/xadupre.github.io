{
  "cells": [
    {
      "cell_type": "code",
      "execution_count": null,
      "metadata": {
        "collapsed": false
      },
      "outputs": [],
      "source": [
        "%matplotlib inline"
      ]
    },
    {
      "cell_type": "markdown",
      "metadata": {},
      "source": [
        "\n\n\nONNX Runtime for Keras\n======================\n\nThe following demonstrates how to compute the predictions\nof a pretrained deep learning model obtained from \n`keras <https://keras.io/>`_\nwith *onnxruntime*. The conversion requires\n`keras <https://keras.io/>`_,\n`tensorflow <https://www.tensorflow.org/>`_,\n`onnxmltools <https://pypi.org/project/onnxmltools/>`_\nbut then only *onnxruntime* is required\nto compute the predictions.\n\n"
      ]
    },
    {
      "cell_type": "code",
      "execution_count": null,
      "metadata": {
        "collapsed": false
      },
      "outputs": [],
      "source": [
        "import os\nif not os.path.exists('dense121.onnx'):\n    from keras.applications.densenet import DenseNet121\n    model = DenseNet121(include_top=True, weights='imagenet')\n\n    from onnxmltools import convert_keras\n    onx = convert_keras(model, 'dense121.onnx')\n    \n    from onnxmltools.utils import save_model\n    save_model(onx, \"dense121.onnx\")"
      ]
    },
    {
      "cell_type": "markdown",
      "metadata": {},
      "source": [
        "Let's load an image (source: wikipedia).\n\n"
      ]
    },
    {
      "cell_type": "code",
      "execution_count": null,
      "metadata": {
        "collapsed": false
      },
      "outputs": [],
      "source": [
        "from keras.preprocessing.image import array_to_img, img_to_array, load_img\nimg = load_img('Sannosawa1.jpg')\nximg = img_to_array(img)\n\nimport matplotlib.pyplot as plt\nplt.imshow(ximg / 255)\nplt.axis('off')"
      ]
    },
    {
      "cell_type": "markdown",
      "metadata": {},
      "source": [
        "Let's load the model with onnxruntime.\n\n"
      ]
    },
    {
      "cell_type": "code",
      "execution_count": null,
      "metadata": {
        "collapsed": false
      },
      "outputs": [],
      "source": [
        "import onnxruntime as rt\n\nsess = rt.InferenceSession('dense121.onnx')\n\nprint(\"The model expects input shape:\", sess.get_inputs()[0].shape)\nprint(\"image shape:\", ximg.shape)"
      ]
    },
    {
      "cell_type": "markdown",
      "metadata": {},
      "source": [
        "Let's resize the image.\n\n"
      ]
    },
    {
      "cell_type": "code",
      "execution_count": null,
      "metadata": {
        "collapsed": false
      },
      "outputs": [],
      "source": [
        "from skimage.transform import resize\nimport numpy\n\nximg224 = resize(ximg / 255, (224, 224, 3), anti_aliasing=True)\nximg = ximg224[numpy.newaxis, :, :, :]\nximg = ximg.astype(numpy.float32)\n\nprint(\"new shape:\", ximg.shape)"
      ]
    },
    {
      "cell_type": "markdown",
      "metadata": {},
      "source": [
        "Let's compute the output.\n\n"
      ]
    },
    {
      "cell_type": "code",
      "execution_count": null,
      "metadata": {
        "collapsed": false
      },
      "outputs": [],
      "source": [
        "input_name = sess.get_inputs()[0].name\nres = sess.run(None, {input_name: ximg})\nprob = res[0]\nprint(prob.ravel()[:10])  # Too big to be displayed."
      ]
    },
    {
      "cell_type": "markdown",
      "metadata": {},
      "source": [
        "Let's get more comprehensive results.\n\n"
      ]
    },
    {
      "cell_type": "code",
      "execution_count": null,
      "metadata": {
        "collapsed": false
      },
      "outputs": [],
      "source": [
        "from keras.applications.densenet import decode_predictions\ndecoded = decode_predictions(prob)\n\nimport pandas\ndf = pandas.DataFrame(decoded[0], columns=[\"class_id\", \"name\", \"P\"])\nprint(df)"
      ]
    }
  ],
  "metadata": {
    "kernelspec": {
      "display_name": "Python 3",
      "language": "python",
      "name": "python3"
    },
    "language_info": {
      "codemirror_mode": {
        "name": "ipython",
        "version": 3
      },
      "file_extension": ".py",
      "mimetype": "text/x-python",
      "name": "python",
      "nbconvert_exporter": "python",
      "pygments_lexer": "ipython3",
      "version": "3.7.0"
    }
  },
  "nbformat": 4,
  "nbformat_minor": 0
}