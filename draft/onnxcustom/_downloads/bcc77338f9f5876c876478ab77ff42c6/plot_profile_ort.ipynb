{
  "cells": [
    {
      "cell_type": "code",
      "execution_count": null,
      "metadata": {
        "collapsed": false
      },
      "outputs": [],
      "source": [
        "%matplotlib inline"
      ]
    },
    {
      "cell_type": "markdown",
      "metadata": {},
      "source": [
        "\n\n# Profile onnxruntime execution\n\nThe following examples converts a model into :epkg:`ONNX` and runs it\nwith :epkg:`onnxruntime`. This one is then uses to profile the execution\nby looking the time spent in each operator. This analysis gives some\nhints on how to optimize the processing time by looking the nodes\nconsuming most of the ressources.\n\n## Neareast Neighbours\n"
      ]
    },
    {
      "cell_type": "code",
      "execution_count": null,
      "metadata": {
        "collapsed": false
      },
      "outputs": [],
      "source": [
        "import json\nimport numpy\nimport matplotlib.pyplot as plt\nfrom mpl_toolkits.axes_grid1.axes_divider import make_axes_area_auto_adjustable\nimport pandas\nfrom onnxruntime import InferenceSession, SessionOptions, get_device\nfrom onnxruntime.capi._pybind_state import (  # pylint: disable=E0611\n    SessionIOBinding, OrtDevice as C_OrtDevice, OrtValue as C_OrtValue)\nfrom sklearn.neighbors import RadiusNeighborsRegressor\nfrom skl2onnx import to_onnx\nfrom tqdm import tqdm\nfrom mlprodict.testing.experimental_c_impl.experimental_c import code_optimisation\nfrom mlprodict.plotting.plotting import onnx_simple_text_plot, plot_onnx\nfrom mlprodict.onnxrt.ops_whole.session import OnnxWholeSession"
      ]
    },
    {
      "cell_type": "markdown",
      "metadata": {},
      "source": [
        "Available optimisation on this machine.\n\n"
      ]
    },
    {
      "cell_type": "code",
      "execution_count": null,
      "metadata": {
        "collapsed": false
      },
      "outputs": [],
      "source": [
        "print(code_optimisation())"
      ]
    },
    {
      "cell_type": "markdown",
      "metadata": {},
      "source": [
        "## Building the model\n\n"
      ]
    },
    {
      "cell_type": "code",
      "execution_count": null,
      "metadata": {
        "collapsed": false
      },
      "outputs": [],
      "source": [
        "X = numpy.random.randn(1000, 10).astype(numpy.float64)\ny = X.sum(axis=1).reshape((-1, 1))\n\nmodel = RadiusNeighborsRegressor()\nmodel.fit(X, y)"
      ]
    },
    {
      "cell_type": "markdown",
      "metadata": {},
      "source": [
        "## Conversion to ONNX\n\n"
      ]
    },
    {
      "cell_type": "code",
      "execution_count": null,
      "metadata": {
        "collapsed": false
      },
      "outputs": [],
      "source": [
        "onx = to_onnx(model, X, options={'optim': 'cdist'})\n\nprint(onnx_simple_text_plot(onx))"
      ]
    },
    {
      "cell_type": "markdown",
      "metadata": {},
      "source": [
        "The ONNX graph looks like the following.\n\n"
      ]
    },
    {
      "cell_type": "code",
      "execution_count": null,
      "metadata": {
        "collapsed": false
      },
      "outputs": [],
      "source": [
        "_, ax = plt.subplots(1, 1, figsize=(8, 15))\nplot_onnx(onx, ax=ax)"
      ]
    },
    {
      "cell_type": "markdown",
      "metadata": {},
      "source": [
        "## Profiling\n\nThe profiling is enabled by setting attribute `enable_profling`\nin :epkg:`SessionOptions`. Method *end_profiling* collects\nall the results and stores it on disk in :epkg:`JSON` format.\n\n"
      ]
    },
    {
      "cell_type": "code",
      "execution_count": null,
      "metadata": {
        "collapsed": false
      },
      "outputs": [],
      "source": [
        "so = SessionOptions()\nso.enable_profiling = True\nsess = InferenceSession(onx.SerializeToString(), so,\n                        providers=['CPUExecutionProvider'])\nfeeds = {'X': X[:100]}\n\nfor i in tqdm(range(0, 10)):\n    sess.run(None, feeds)\n\nprof = sess.end_profiling()\nprint(prof)"
      ]
    },
    {
      "cell_type": "markdown",
      "metadata": {},
      "source": [
        "## Better rendering\n\n"
      ]
    },
    {
      "cell_type": "code",
      "execution_count": null,
      "metadata": {
        "collapsed": false
      },
      "outputs": [],
      "source": [
        "with open(prof, \"r\") as f:\n    js = json.load(f)\ndf = pandas.DataFrame(OnnxWholeSession.process_profiling(js))\ndf"
      ]
    },
    {
      "cell_type": "markdown",
      "metadata": {},
      "source": [
        "## Graphs\n\nFirst graph is by operator type.\n\n"
      ]
    },
    {
      "cell_type": "code",
      "execution_count": null,
      "metadata": {
        "collapsed": false
      },
      "outputs": [],
      "source": [
        "gr_dur = df[['dur', \"args_op_name\"]].groupby(\n    \"args_op_name\").sum().sort_values('dur')\ngr_n = df[['dur', \"args_op_name\"]].groupby(\n    \"args_op_name\").count().sort_values('dur')\ngr_n = gr_n.loc[gr_dur.index, :]\n\nfig, ax = plt.subplots(1, 2, figsize=(8, 4))\ngr_dur.plot.barh(ax=ax[0])\ngr_n.plot.barh(ax=ax[1])\nax[0].set_title(\"duration\")\nax[1].set_title(\"n occurences\")\nfig.suptitle(model.__class__.__name__)"
      ]
    },
    {
      "cell_type": "markdown",
      "metadata": {},
      "source": [
        "Second graph is by operator name.\n\n"
      ]
    },
    {
      "cell_type": "code",
      "execution_count": null,
      "metadata": {
        "collapsed": false
      },
      "outputs": [],
      "source": [
        "gr_dur = df[['dur', \"args_op_name\", \"name\"]].groupby(\n    [\"args_op_name\", \"name\"]).sum().sort_values('dur')\ngr_dur.head(n=5)"
      ]
    },
    {
      "cell_type": "markdown",
      "metadata": {},
      "source": [
        "And the graph.\n\n"
      ]
    },
    {
      "cell_type": "code",
      "execution_count": null,
      "metadata": {
        "collapsed": false
      },
      "outputs": [],
      "source": [
        "_, ax = plt.subplots(1, 1, figsize=(8, gr_dur.shape[0] // 2))\ngr_dur.plot.barh(ax=ax)\nax.set_title(\"duration per node\")\nfor label in (ax.get_xticklabels() + ax.get_yticklabels()):\n    label.set_fontsize(7)\nmake_axes_area_auto_adjustable(ax)"
      ]
    },
    {
      "cell_type": "markdown",
      "metadata": {},
      "source": [
        "The model spends most of its time in CumSum operator.\nOperator Shape gets called the highest number of times.\n\n"
      ]
    },
    {
      "cell_type": "code",
      "execution_count": null,
      "metadata": {
        "collapsed": false
      },
      "outputs": [],
      "source": [
        "# plt.show()"
      ]
    },
    {
      "cell_type": "markdown",
      "metadata": {},
      "source": [
        "## GPU or CPU\n\n"
      ]
    },
    {
      "cell_type": "code",
      "execution_count": null,
      "metadata": {
        "collapsed": false
      },
      "outputs": [],
      "source": [
        "if get_device().upper() == 'GPU':\n    ort_device = C_OrtDevice(\n        C_OrtDevice.cuda(), C_OrtDevice.default_memory(), 0)\nelse:\n    ort_device = C_OrtDevice(\n        C_OrtDevice.cpu(), C_OrtDevice.default_memory(), 0)\n\n# session\nsess = InferenceSession(onx.SerializeToString(), so,\n                        providers=['CPUExecutionProvider',\n                                   'CUDAExecutionProvider'])\nbind = SessionIOBinding(sess._sess)\n\n# moving the data on CPU or GPU\nort_value = C_OrtValue.ortvalue_from_numpy(X, ort_device)"
      ]
    },
    {
      "cell_type": "markdown",
      "metadata": {},
      "source": [
        "A function which calls the API for any device.\n\n"
      ]
    },
    {
      "cell_type": "code",
      "execution_count": null,
      "metadata": {
        "collapsed": false
      },
      "outputs": [],
      "source": [
        "def run_with_iobinding(sess, bind, ort_device, ort_value, dtype):\n    bind.bind_input('X', ort_device, dtype, ort_value.shape(),\n                    ort_value.data_ptr())\n    bind.bind_output('variable', ort_device)\n    sess._sess.run_with_iobinding(bind, None)\n    ortvalues = bind.get_outputs()\n    return ortvalues[0].numpy()"
      ]
    },
    {
      "cell_type": "markdown",
      "metadata": {},
      "source": [
        "The profiling.\n\n"
      ]
    },
    {
      "cell_type": "code",
      "execution_count": null,
      "metadata": {
        "collapsed": false
      },
      "outputs": [],
      "source": [
        "for i in tqdm(range(0, 10)):\n    run_with_iobinding(sess, bind, ort_device, ort_value, X.dtype)\n\nprof = sess.end_profiling()\nwith open(prof, \"r\") as f:\n    js = json.load(f)\ndf = pandas.DataFrame(OnnxWholeSession.process_profiling(js))\ndf"
      ]
    },
    {
      "cell_type": "markdown",
      "metadata": {},
      "source": [
        "First graph is by operator type.\n\n"
      ]
    },
    {
      "cell_type": "code",
      "execution_count": null,
      "metadata": {
        "collapsed": false
      },
      "outputs": [],
      "source": [
        "gr_dur = df[['dur', \"args_op_name\"]].groupby(\n    \"args_op_name\").sum().sort_values('dur')\ngr_n = df[['dur', \"args_op_name\"]].groupby(\n    \"args_op_name\").count().sort_values('dur')\ngr_n = gr_n.loc[gr_dur.index, :]\n\nfig, ax = plt.subplots(1, 2, figsize=(8, 4))\ngr_dur.plot.barh(ax=ax[0])\ngr_n.plot.barh(ax=ax[1])\nax[0].set_title(\"duration\")\nax[1].set_title(\"n occurences\")\nfig.suptitle(model.__class__.__name__)"
      ]
    },
    {
      "cell_type": "markdown",
      "metadata": {},
      "source": [
        "Second graph is by operator name.\n\n"
      ]
    },
    {
      "cell_type": "code",
      "execution_count": null,
      "metadata": {
        "collapsed": false
      },
      "outputs": [],
      "source": [
        "gr_dur = df[['dur', \"args_op_name\", \"name\"]].groupby(\n    [\"args_op_name\", \"name\"]).sum().sort_values('dur')\ngr_dur.head(n=5)"
      ]
    },
    {
      "cell_type": "markdown",
      "metadata": {},
      "source": [
        "And the graph.\n\n"
      ]
    },
    {
      "cell_type": "code",
      "execution_count": null,
      "metadata": {
        "collapsed": false
      },
      "outputs": [],
      "source": [
        "_, ax = plt.subplots(1, 1, figsize=(8, gr_dur.shape[0] // 2))\ngr_dur.plot.barh(ax=ax)\nax.set_title(\"duration per node\")\nfor label in (ax.get_xticklabels() + ax.get_yticklabels()):\n    label.set_fontsize(7)\nmake_axes_area_auto_adjustable(ax)"
      ]
    },
    {
      "cell_type": "markdown",
      "metadata": {},
      "source": [
        "It shows the same results.\n\n"
      ]
    },
    {
      "cell_type": "code",
      "execution_count": null,
      "metadata": {
        "collapsed": false
      },
      "outputs": [],
      "source": [
        "# plt.show()"
      ]
    }
  ],
  "metadata": {
    "kernelspec": {
      "display_name": "Python 3",
      "language": "python",
      "name": "python3"
    },
    "language_info": {
      "codemirror_mode": {
        "name": "ipython",
        "version": 3
      },
      "file_extension": ".py",
      "mimetype": "text/x-python",
      "name": "python",
      "nbconvert_exporter": "python",
      "pygments_lexer": "ipython3",
      "version": "3.9.1"
    }
  },
  "nbformat": 4,
  "nbformat_minor": 0
}