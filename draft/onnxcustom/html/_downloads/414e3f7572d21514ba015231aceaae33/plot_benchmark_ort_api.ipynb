{
  "cells": [
    {
      "cell_type": "code",
      "execution_count": null,
      "metadata": {
        "collapsed": false
      },
      "outputs": [],
      "source": [
        "%matplotlib inline"
      ]
    },
    {
      "cell_type": "markdown",
      "metadata": {},
      "source": [
        "\n\n# Benchmark onnxruntime API: run or ...\n\nThis short code compares different methods to call onnxruntime API.\n\n* `run`\n* `run_with_ort_values`\n* `run_with_iobinding`\n\nYou may profile this code:\n\n::\n\n    py-spy record -o plot_benchmark_ort_api.svg -r 10\n    --native -- python plot_benchmark_ort_api.py\n\n## Linear Regression\n"
      ]
    },
    {
      "cell_type": "code",
      "execution_count": null,
      "metadata": {
        "collapsed": false
      },
      "outputs": [],
      "source": [
        "import numpy\nimport pandas\nfrom onnxruntime import InferenceSession\nfrom onnxruntime.capi._pybind_state import (  # pylint: disable=E0611\n    SessionIOBinding, OrtDevice as C_OrtDevice,\n    OrtMemType, OrtValue as C_OrtValue, RunOptions)\nfrom sklearn import config_context\nfrom sklearn.linear_model import LinearRegression\nfrom skl2onnx import to_onnx\nfrom cpyquickhelper.numbers.speed_measure import measure_time\nfrom mlprodict.onnxrt import OnnxInference\nfrom mlprodict.plotting.plotting import onnx_simple_text_plot\nfrom mlprodict.testing.experimental_c_impl.experimental_c import code_optimisation"
      ]
    },
    {
      "cell_type": "markdown",
      "metadata": {},
      "source": [
        "Available optimisation on this machine.\n\n"
      ]
    },
    {
      "cell_type": "code",
      "execution_count": null,
      "metadata": {
        "collapsed": false
      },
      "outputs": [],
      "source": [
        "print(code_optimisation())\nrepeat = 250\nnumber = 250"
      ]
    },
    {
      "cell_type": "markdown",
      "metadata": {},
      "source": [
        "## Building the model\n\n"
      ]
    },
    {
      "cell_type": "code",
      "execution_count": null,
      "metadata": {
        "collapsed": false
      },
      "outputs": [],
      "source": [
        "X = numpy.random.randn(1000, 10).astype(numpy.float32)\ny = X.sum(axis=1)\n\nmodel = LinearRegression()\nmodel.fit(X, y)"
      ]
    },
    {
      "cell_type": "markdown",
      "metadata": {},
      "source": [
        "## Conversion to ONNX\n\n"
      ]
    },
    {
      "cell_type": "code",
      "execution_count": null,
      "metadata": {
        "collapsed": false
      },
      "outputs": [],
      "source": [
        "onx = to_onnx(model, X, black_op={'LinearRegressor'})\nprint(onnx_simple_text_plot(onx))"
      ]
    },
    {
      "cell_type": "markdown",
      "metadata": {},
      "source": [
        "## Benchmarks\n\n"
      ]
    },
    {
      "cell_type": "code",
      "execution_count": null,
      "metadata": {
        "collapsed": false
      },
      "outputs": [],
      "source": [
        "data = []"
      ]
    },
    {
      "cell_type": "markdown",
      "metadata": {},
      "source": [
        "scikit-learn\n\n"
      ]
    },
    {
      "cell_type": "code",
      "execution_count": null,
      "metadata": {
        "collapsed": false
      },
      "outputs": [],
      "source": [
        "print('scikit-learn')\n\nwith config_context(assume_finite=True):\n    obs = measure_time(lambda: model.predict(X),\n                       context=dict(model=model, X=X),\n                       repeat=repeat, number=number)\n    obs['name'] = 'skl'\n    data.append(obs)"
      ]
    },
    {
      "cell_type": "markdown",
      "metadata": {},
      "source": [
        "numpy runtime\n\n"
      ]
    },
    {
      "cell_type": "code",
      "execution_count": null,
      "metadata": {
        "collapsed": false
      },
      "outputs": [],
      "source": [
        "print('numpy')\noinf = OnnxInference(onx, runtime=\"python_compiled\")\nobs = measure_time(\n    lambda: oinf.run({'X': X}), context=dict(oinf=oinf, X=X),\n    repeat=repeat, number=number)\nobs['name'] = 'numpy'\ndata.append(obs)"
      ]
    },
    {
      "cell_type": "markdown",
      "metadata": {},
      "source": [
        "onnxruntime: run\n\n"
      ]
    },
    {
      "cell_type": "code",
      "execution_count": null,
      "metadata": {
        "collapsed": false
      },
      "outputs": [],
      "source": [
        "print('ort')\nsess = InferenceSession(onx.SerializeToString(),\n                        providers=['CPUExecutionProvider'])\nobs = measure_time(lambda: sess.run(None, {'X': X}),\n                   context=dict(sess=sess, X=X),\n                   repeat=repeat, number=number)\nobs['name'] = 'ort-run'\ndata.append(obs)"
      ]
    },
    {
      "cell_type": "markdown",
      "metadata": {},
      "source": [
        "onnxruntime: run\n\n"
      ]
    },
    {
      "cell_type": "code",
      "execution_count": null,
      "metadata": {
        "collapsed": false
      },
      "outputs": [],
      "source": [
        "print('ort-c')\nsess = InferenceSession(onx.SerializeToString(),\n                        providers=['CPUExecutionProvider'])\nro = RunOptions()\noutput_names = [o.name for o in sess.get_outputs()]\nobs = measure_time(\n    lambda: sess._sess.run(output_names, {'X': X}, ro),\n    context=dict(sess=sess, X=X),\n    repeat=repeat, number=number)\nobs['name'] = 'ort-c'\ndata.append(obs)"
      ]
    },
    {
      "cell_type": "markdown",
      "metadata": {},
      "source": [
        "onnxruntime: run_with_ort_values\n\n"
      ]
    },
    {
      "cell_type": "code",
      "execution_count": null,
      "metadata": {
        "collapsed": false
      },
      "outputs": [],
      "source": [
        "print('ort-ov-c')\ndevice = C_OrtDevice(C_OrtDevice.cpu(), OrtMemType.DEFAULT, 0)\n\nXov = C_OrtValue.ortvalue_from_numpy(X, device)\n\nsess = InferenceSession(onx.SerializeToString(),\n                        providers=['CPUExecutionProvider'])\nro = RunOptions()\noutput_names = [o.name for o in sess.get_outputs()]\nobs = measure_time(\n    lambda: sess._sess.run_with_ort_values(\n        {'X': Xov}, output_names, ro),\n    context=dict(sess=sess),\n    repeat=repeat, number=number)\nobs['name'] = 'ort-ov'\ndata.append(obs)"
      ]
    },
    {
      "cell_type": "markdown",
      "metadata": {},
      "source": [
        "onnxruntime: run_with_iobinding\n\n"
      ]
    },
    {
      "cell_type": "code",
      "execution_count": null,
      "metadata": {
        "collapsed": false
      },
      "outputs": [],
      "source": [
        "print('ort-bind')\nsess = InferenceSession(onx.SerializeToString(),\n                        providers=['CPUExecutionProvider'])\nbind = SessionIOBinding(sess._sess)\nort_device = C_OrtDevice(C_OrtDevice.cpu(), C_OrtDevice.default_memory(), 0)\n\n\ndef run_with_iobinding(sess, X, bind, ort_device):\n    if X.__array_interface__['strides'] is not None:\n        raise RuntimeError(\"onnxruntime only supports contiguous arrays.\")\n    bind.bind_input('X', ort_device, X.dtype, X.shape,\n                    X.__array_interface__['data'][0])\n    bind.bind_output('variable', ort_device)\n    sess._sess.run_with_iobinding(bind, None)\n    ortvalues = bind.get_outputs()\n    return ortvalues[0].numpy()\n\n\nobs = measure_time(lambda: run_with_iobinding(sess, X, bind, ort_device),\n                   context=dict(run_with_iobinding=run_with_iobinding, X=X,\n                                sess=sess, bind=bind, ort_device=ort_device),\n                   repeat=repeat, number=number)\n\nobs['name'] = 'ort-bind'\ndata.append(obs)"
      ]
    },
    {
      "cell_type": "markdown",
      "metadata": {},
      "source": [
        "This fourth implementation is very similar to the previous\none but it only binds array once and reuse the memory\nwithout changing the binding. It assumes that input size\nand output size never change. It copies the data into\nthe fixed buffer and returns the same array, modified\ninplace.\n\n"
      ]
    },
    {
      "cell_type": "code",
      "execution_count": null,
      "metadata": {
        "collapsed": false
      },
      "outputs": [],
      "source": [
        "print('ort-bind-inplace')\nsess = InferenceSession(onx.SerializeToString(),\n                        providers=['CPUExecutionProvider'])\nbind = SessionIOBinding(sess._sess)\nort_device = C_OrtDevice(C_OrtDevice.cpu(), C_OrtDevice.default_memory(), 0)\n\nY = sess.run(None, {'X': X})[0]\nbX = X.copy()\nbY = Y.copy()\n\nbind.bind_input('X', ort_device, numpy.float32, bX.shape,\n                bX.__array_interface__['data'][0])\nbind.bind_output('variable', ort_device, numpy.float32, bY.shape,\n                 bY.__array_interface__['data'][0])\nortvalues = bind.get_outputs()\n\n\ndef run_with_iobinding(sess, bX, bY, X, bind, ortvalues):\n    if X.__array_interface__['strides'] is not None:\n        raise RuntimeError(\"onnxruntime only supports contiguous arrays.\")\n    bX[:, :] = X[:, :]\n    sess._sess.run_with_iobinding(bind, None)\n    return bY\n\n\nobs = measure_time(\n    lambda: run_with_iobinding(\n        sess, bX, bY, X, bind, ortvalues),\n    context=dict(run_with_iobinding=run_with_iobinding, X=X,\n                 sess=sess, bind=bind, ortvalues=ortvalues, bX=bX, bY=bY),\n    repeat=repeat, number=number)\n\nobs['name'] = 'ort-bind-inplace'\ndata.append(obs)"
      ]
    },
    {
      "cell_type": "markdown",
      "metadata": {},
      "source": [
        "Fifth implementation is equivalent to the previous one\nbut does not copy anything.\n\n"
      ]
    },
    {
      "cell_type": "code",
      "execution_count": null,
      "metadata": {
        "collapsed": false
      },
      "outputs": [],
      "source": [
        "print('ort-run-inplace')\nsess = InferenceSession(onx.SerializeToString(),\n                        providers=['CPUExecutionProvider'])\nbind = SessionIOBinding(sess._sess)\nort_device = C_OrtDevice(C_OrtDevice.cpu(), C_OrtDevice.default_memory(), 0)\n\nY = sess.run(None, {'X': X})[0]\nbX = X.copy()\nbY = Y.copy()\n\nbind.bind_input('X', ort_device, numpy.float32, bX.shape,\n                bX.__array_interface__['data'][0])\nbind.bind_output('variable', ort_device, numpy.float32, bY.shape,\n                 bY.__array_interface__['data'][0])\nortvalues = bind.get_outputs()\n\n\ndef run_with_iobinding_no_copy(sess, bX, bY, X, bind, ortvalues):\n    if X.__array_interface__['strides'] is not None:\n        raise RuntimeError(\"onnxruntime only supports contiguous arrays.\")\n    # bX[:, :] = X[:, :]\n    sess._sess.run_with_iobinding(bind, None)\n    return bY\n\n\nobs = measure_time(\n    lambda: run_with_iobinding_no_copy(\n        sess, bX, bY, X, bind, ortvalues),\n    context=dict(run_with_iobinding_no_copy=run_with_iobinding_no_copy, X=X,\n                 sess=sess, bind=bind, ortvalues=ortvalues, bX=bX, bY=bY),\n    repeat=repeat, number=number)\n\nobs['name'] = 'ort-run-inplace'\ndata.append(obs)"
      ]
    },
    {
      "cell_type": "markdown",
      "metadata": {},
      "source": [
        "## Final\n\n"
      ]
    },
    {
      "cell_type": "code",
      "execution_count": null,
      "metadata": {
        "collapsed": false
      },
      "outputs": [],
      "source": [
        "df = pandas.DataFrame(data)\nprint(df[['name', 'average', 'number', 'repeat', 'deviation']])\ndf"
      ]
    },
    {
      "cell_type": "markdown",
      "metadata": {},
      "source": [
        "## Graph\n\n"
      ]
    },
    {
      "cell_type": "code",
      "execution_count": null,
      "metadata": {
        "collapsed": false
      },
      "outputs": [],
      "source": [
        "ax = df.set_index('name')[['average']].plot.bar()\nax.set_title(\"Average inference time\\nThe lower the better\")\nax.tick_params(axis='x', labelrotation=15)"
      ]
    },
    {
      "cell_type": "markdown",
      "metadata": {},
      "source": [
        "## Conclusion\n\nA profiling (:epkg:`onnxruntime` is compiled with debug information)\nincluding # calls to native C++ functions shows that referencing input\nby name # takes a significant time when the graph is very small such\nas this one. The logic in method *run_with_iobinding* is much longer\nthat the one implemented in *run*.\n\n"
      ]
    },
    {
      "cell_type": "code",
      "execution_count": null,
      "metadata": {
        "collapsed": false
      },
      "outputs": [],
      "source": [
        "# import matplotlib.pyplot as plt\n# plt.show()"
      ]
    }
  ],
  "metadata": {
    "kernelspec": {
      "display_name": "Python 3",
      "language": "python",
      "name": "python3"
    },
    "language_info": {
      "codemirror_mode": {
        "name": "ipython",
        "version": 3
      },
      "file_extension": ".py",
      "mimetype": "text/x-python",
      "name": "python",
      "nbconvert_exporter": "python",
      "pygments_lexer": "ipython3",
      "version": "3.9.1"
    }
  },
  "nbformat": 4,
  "nbformat_minor": 0
}