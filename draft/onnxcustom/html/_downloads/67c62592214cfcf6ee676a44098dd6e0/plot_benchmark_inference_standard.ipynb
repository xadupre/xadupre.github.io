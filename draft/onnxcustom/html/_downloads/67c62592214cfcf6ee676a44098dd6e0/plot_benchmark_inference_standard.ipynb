{
  "cells": [
    {
      "cell_type": "code",
      "execution_count": null,
      "metadata": {
        "collapsed": false
      },
      "outputs": [],
      "source": [
        "%matplotlib inline"
      ]
    },
    {
      "cell_type": "markdown",
      "metadata": {},
      "source": [
        "\n\n# Benchmark inference for scikit-learn models\n\nThis short code compares the execution of a couple of runtime\nfor inference including :epkg:`onnxruntime`. It uses examples\n`Measure ONNX runtime performances\n<http://www.xavierdupre.fr/app/mlprodict/helpsphinx/\ngyexamples/plot_onnx_benchmark.html>`_. It is an automated process\nto compare the performance of a model against :epkg:`scikit-learn`.\nThis model is a simple model taken from all implemented by\n:epkg:`scikit-learn`.\n\n## Linear Regression\n"
      ]
    },
    {
      "cell_type": "code",
      "execution_count": null,
      "metadata": {
        "collapsed": false
      },
      "outputs": [],
      "source": [
        "from pandas import read_csv\nfrom mlprodict.cli import validate_runtime\nfrom mlprodict.plotting.plotting import plot_validate_benchmark\n\nres = validate_runtime(\n    verbose=1,\n    out_raw=\"data.csv\", out_summary=\"summary.csv\",\n    benchmark=True, dump_folder=\"dump_errors\",\n    runtime=['python', 'onnxruntime1'],\n    models=['LinearRegression'],\n    skip_models=['LinearRegression[m-reg]'],\n    n_features=[10, 50], dtype=\"32\",\n    out_graph=\"bench.png\",\n    opset_min=15, opset_max=15,\n    time_kwargs={\n        1: {\"number\": 50, \"repeat\": 50},\n        10: {\"number\": 25, \"repeat\": 25},\n        100: {\"number\": 20, \"repeat\": 20},\n        1000: {\"number\": 20, \"repeat\": 20},\n        10000: {\"number\": 10, \"repeat\": 10},\n    }\n)\n\nresults = read_csv('summary.csv')\nresults"
      ]
    },
    {
      "cell_type": "markdown",
      "metadata": {},
      "source": [
        "Graph.\n\n"
      ]
    },
    {
      "cell_type": "code",
      "execution_count": null,
      "metadata": {
        "collapsed": false
      },
      "outputs": [],
      "source": [
        "_, ax = plot_validate_benchmark(results)\nax\n\n# import matplotlib.pyplot as plt\n# plt.show()"
      ]
    }
  ],
  "metadata": {
    "kernelspec": {
      "display_name": "Python 3",
      "language": "python",
      "name": "python3"
    },
    "language_info": {
      "codemirror_mode": {
        "name": "ipython",
        "version": 3
      },
      "file_extension": ".py",
      "mimetype": "text/x-python",
      "name": "python",
      "nbconvert_exporter": "python",
      "pygments_lexer": "ipython3",
      "version": "3.9.1"
    }
  },
  "nbformat": 4,
  "nbformat_minor": 0
}