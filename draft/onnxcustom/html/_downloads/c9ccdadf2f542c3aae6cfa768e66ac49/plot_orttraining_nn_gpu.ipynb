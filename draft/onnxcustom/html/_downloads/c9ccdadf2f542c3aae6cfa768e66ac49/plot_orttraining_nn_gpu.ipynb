{
  "cells": [
    {
      "cell_type": "code",
      "execution_count": null,
      "metadata": {
        "collapsed": false
      },
      "outputs": [],
      "source": [
        "%matplotlib inline"
      ]
    },
    {
      "cell_type": "markdown",
      "metadata": {},
      "source": [
        "\n\n# Train a scikit-learn neural network with onnxruntime-training on GPU\n\nThis example leverages example `l-orttraining-linreg-gpu` to\ntrain a neural network from :epkg:`scikit-learn` on GPU. However, the code\nis using classes implemented in this module, following the pattern\nintroduced in exemple `l-orttraining-linreg`.\n\n## A neural network with scikit-learn\n"
      ]
    },
    {
      "cell_type": "code",
      "execution_count": null,
      "metadata": {
        "collapsed": false
      },
      "outputs": [],
      "source": [
        "import warnings\nfrom pprint import pprint\nimport numpy\nfrom pandas import DataFrame\nfrom onnxruntime import get_device, InferenceSession\nfrom sklearn.datasets import make_regression\nfrom sklearn.model_selection import train_test_split\nfrom sklearn.neural_network import MLPRegressor\nfrom sklearn.metrics import mean_squared_error\nfrom onnxcustom.plotting.plotting_onnx import plot_onnxs\nfrom mlprodict.onnx_conv import to_onnx\nfrom onnxcustom.utils.orttraining_helper import (\n    add_loss_output, get_train_initializer)\nfrom onnxcustom.training.optimizers import OrtGradientOptimizer\n\n\nX, y = make_regression(1000, n_features=10, bias=2)\nX = X.astype(numpy.float32)\ny = y.astype(numpy.float32)\nX_train, X_test, y_train, y_test = train_test_split(X, y)\n\nnn = MLPRegressor(hidden_layer_sizes=(10, 10), max_iter=200,\n                  solver='sgd', learning_rate_init=1e-4, alpha=0,\n                  n_iter_no_change=1000, batch_size=10,\n                  momentum=0, nesterovs_momentum=False)\n\nwith warnings.catch_warnings():\n    warnings.simplefilter('ignore')\n    nn.fit(X_train, y_train)"
      ]
    },
    {
      "cell_type": "markdown",
      "metadata": {},
      "source": [
        "Score:\n\n"
      ]
    },
    {
      "cell_type": "code",
      "execution_count": null,
      "metadata": {
        "collapsed": false
      },
      "outputs": [],
      "source": [
        "print(\"mean_squared_error=%r\" % mean_squared_error(y_test, nn.predict(X_test)))"
      ]
    },
    {
      "cell_type": "markdown",
      "metadata": {},
      "source": [
        "## Conversion to ONNX\n\n"
      ]
    },
    {
      "cell_type": "code",
      "execution_count": null,
      "metadata": {
        "collapsed": false
      },
      "outputs": [],
      "source": [
        "onx = to_onnx(nn, X_train[:1].astype(numpy.float32), target_opset=15)\nplot_onnxs(onx)"
      ]
    },
    {
      "cell_type": "markdown",
      "metadata": {},
      "source": [
        "## Training graph\n\nThe loss function is the square function. We use function\n:func:`add_loss_output\n<onnxcustom.utils.orttraining_helper.add_loss_output>`.\nIt does something what is implemented in example\n`l-orttraining-linreg-cpu`.\n\n"
      ]
    },
    {
      "cell_type": "code",
      "execution_count": null,
      "metadata": {
        "collapsed": false
      },
      "outputs": [],
      "source": [
        "onx_train = add_loss_output(onx)\nplot_onnxs(onx_train)"
      ]
    },
    {
      "cell_type": "markdown",
      "metadata": {},
      "source": [
        "Let's check inference is working.\n\n"
      ]
    },
    {
      "cell_type": "code",
      "execution_count": null,
      "metadata": {
        "collapsed": false
      },
      "outputs": [],
      "source": [
        "sess = InferenceSession(onx_train.SerializeToString(),\n                        providers=['CPUExecutionProvider'])\nres = sess.run(None, {'X': X_test, 'label': y_test.reshape((-1, 1))})\nprint(\"onnx loss=%r\" % (res[0][0, 0] / X_test.shape[0]))"
      ]
    },
    {
      "cell_type": "markdown",
      "metadata": {},
      "source": [
        "Let's retrieve the constant, the weight to optimize.\nWe remove initializer which cannot be optimized.\n\n"
      ]
    },
    {
      "cell_type": "code",
      "execution_count": null,
      "metadata": {
        "collapsed": false
      },
      "outputs": [],
      "source": [
        "inits = get_train_initializer(onx)\nweights = {k: v for k, v in inits.items() if k != \"shape_tensor\"}\npprint(list((k, v[0].shape) for k, v in weights.items()))"
      ]
    },
    {
      "cell_type": "markdown",
      "metadata": {},
      "source": [
        "## Training\n\nThe training session. If GPU is available, it chooses CUDA\notherwise it falls back to CPU.\n\n"
      ]
    },
    {
      "cell_type": "code",
      "execution_count": null,
      "metadata": {
        "collapsed": false
      },
      "outputs": [],
      "source": [
        "device = \"cuda\" if get_device().upper() == 'GPU' else 'cpu'\n\nprint(\"device=%r get_device()=%r\" % (device, get_device()))"
      ]
    },
    {
      "cell_type": "markdown",
      "metadata": {},
      "source": [
        "The training session.\n\n"
      ]
    },
    {
      "cell_type": "code",
      "execution_count": null,
      "metadata": {
        "collapsed": false
      },
      "outputs": [],
      "source": [
        "train_session = OrtGradientOptimizer(\n    onx_train, list(weights), device=device, verbose=1,\n    learning_rate=5e-4, warm_start=False, max_iter=200, batch_size=10)\n\ntrain_session.fit(X, y)\nstate_tensors = train_session.get_state()\n\nprint(train_session.train_losses_)\n\ndf = DataFrame({'ort losses': train_session.train_losses_,\n                'skl losses:': nn.loss_curve_})\ndf.plot(title=\"Train loss against iterations\", logy=True)\n\n# import matplotlib.pyplot as plt\n# plt.show()"
      ]
    }
  ],
  "metadata": {
    "kernelspec": {
      "display_name": "Python 3",
      "language": "python",
      "name": "python3"
    },
    "language_info": {
      "codemirror_mode": {
        "name": "ipython",
        "version": 3
      },
      "file_extension": ".py",
      "mimetype": "text/x-python",
      "name": "python",
      "nbconvert_exporter": "python",
      "pygments_lexer": "ipython3",
      "version": "3.9.1"
    }
  },
  "nbformat": 4,
  "nbformat_minor": 0
}