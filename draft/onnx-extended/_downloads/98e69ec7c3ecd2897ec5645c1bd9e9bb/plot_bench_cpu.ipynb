{
  "cells": [
    {
      "cell_type": "code",
      "execution_count": null,
      "metadata": {
        "collapsed": false
      },
      "outputs": [],
      "source": [
        "%matplotlib inline"
      ]
    },
    {
      "cell_type": "markdown",
      "metadata": {},
      "source": [
        "\n\n# Measuring CPU performance\n\nProcessor caches must be taken into account when writing an algorithm,\nsee [Memory part 2: CPU caches](https://lwn.net/Articles/252125/)\nfrom Ulrich Drepper.\n\n## Cache Performance\n"
      ]
    },
    {
      "cell_type": "code",
      "execution_count": null,
      "metadata": {
        "collapsed": false
      },
      "outputs": [],
      "source": [
        "from tqdm import tqdm\nimport matplotlib.pyplot as plt\nfrom pyquickhelper.loghelper import run_cmd\nfrom pandas import DataFrame, concat\nfrom onnx_extended.ext_test_case import unit_test_going\nfrom onnx_extended.validation.cpu._validation import (\n    benchmark_cache,\n    benchmark_cache_tree,\n)\n\nobs = []\nstep = 2**12\nfor i in tqdm(range(step, 2**20 + step, step)):\n    res = min(\n        [\n            benchmark_cache(i, False),\n            benchmark_cache(i, False),\n            benchmark_cache(i, False),\n        ]\n    )\n    if res < 0:\n        # overflow\n        continue\n    obs.append(dict(size=i, perf=res))\n\ndf = DataFrame(obs)\nmean = df.perf.mean()\nlag = 32\nfor i in range(2, df.shape[0]):\n    df.loc[i, \"smooth\"] = df.loc[i - 8 : i + 8, \"perf\"].median()\n    if i > lag and i < df.shape[0] - lag:\n        df.loc[i, \"delta\"] = (\n            mean\n            + df.loc[i : i + lag, \"perf\"].mean()\n            - df.loc[i - lag + 1 : i + 1, \"perf\"]\n        ).mean()"
      ]
    },
    {
      "cell_type": "markdown",
      "metadata": {},
      "source": [
        "## Cache size estimator\n\n"
      ]
    },
    {
      "cell_type": "code",
      "execution_count": null,
      "metadata": {
        "collapsed": false
      },
      "outputs": [],
      "source": [
        "cache_size_index = int(df.delta.argmax())\ncache_size = df.loc[cache_size_index, \"size\"] * 2\nprint(f\"L2 cache size estimation is {cache_size / 2 ** 20:1.3f} Mb.\")"
      ]
    },
    {
      "cell_type": "markdown",
      "metadata": {},
      "source": [
        "## Verification\n\n"
      ]
    },
    {
      "cell_type": "code",
      "execution_count": null,
      "metadata": {
        "collapsed": false
      },
      "outputs": [],
      "source": [
        "try:\n    out, err = run_cmd(\"lscpu\", wait=True)\n    print(\"\\n\".join(_ for _ in out.split(\"\\n\") if \"cache:\" in _))\nexcept Exception as e:\n    print(f\"failed due to {e}\")\n\ndf = df.set_index(\"size\")\nfig, ax = plt.subplots(1, 1, figsize=(12, 4))\ndf.plot(ax=ax, title=\"Cache Performance time/size\", logy=True)\nfig.savefig(\"plot_benchmark_cpu_array.png\")"
      ]
    },
    {
      "cell_type": "markdown",
      "metadata": {},
      "source": [
        "## TreeEnsemble Performance\n\nWe simulate the computation of a TreeEnsemble\nof 50 features, 100 trees and depth of 10\n(so $2^10$ nodes.)\n\n"
      ]
    },
    {
      "cell_type": "code",
      "execution_count": null,
      "metadata": {
        "collapsed": false
      },
      "outputs": [],
      "source": [
        "dfs = []\ncols = []\ndrop = []\nfor n in tqdm(range(10)):\n    res = benchmark_cache_tree(\n        n_rows=2000,\n        n_features=50,\n        n_trees=100,\n        tree_size=1024,\n        max_depth=10,\n        search_step=64,\n    )\n    res = [[max(r.row, i), r.time] for i, r in enumerate(res)]\n    df = DataFrame(res)\n    df.columns = [f\"i{n}\", f\"time{n}\"]\n    dfs.append(df)\n    cols.append(df.columns[-1])\n    drop.append(df.columns[0])\n    if unit_test_going() and len(dfs) >= 3:\n        break\n\ndf = concat(dfs, axis=1).reset_index(drop=True)\ndf[\"i\"] = df[\"i0\"]\ndf = df.drop(drop, axis=1)\ndf[\"time_avg\"] = df[cols].mean(axis=1)\ndf[\"time_med\"] = df[cols].median(axis=1)\n\ndf.head()"
      ]
    },
    {
      "cell_type": "markdown",
      "metadata": {},
      "source": [
        "## Estimation\n\n"
      ]
    },
    {
      "cell_type": "code",
      "execution_count": null,
      "metadata": {
        "collapsed": false
      },
      "outputs": [],
      "source": [
        "print(\"Optimal batch size is among:\")\ndfi = df[[\"time_med\", \"i\"]].groupby(\"time_med\").min()\ndfi_min = set(dfi[\"i\"])\ndfsub = df[df[\"i\"].isin(dfi_min)]\ndfs = dfsub.sort_values(\"time_med\").reset_index()\nprint(dfs[[\"i\", \"time_med\", \"time_avg\"]].head(10))"
      ]
    },
    {
      "cell_type": "markdown",
      "metadata": {},
      "source": [
        "One possible estimation\n\n"
      ]
    },
    {
      "cell_type": "code",
      "execution_count": null,
      "metadata": {
        "collapsed": false
      },
      "outputs": [],
      "source": [
        "subdfs = dfs[:20]\navg = (subdfs[\"i\"] / subdfs[\"time_avg\"]).sum() / (subdfs[\"time_avg\"] ** (-1)).sum()\nprint(f\"Estimation: {avg}\")"
      ]
    },
    {
      "cell_type": "markdown",
      "metadata": {},
      "source": [
        "Plots.\n\n"
      ]
    },
    {
      "cell_type": "code",
      "execution_count": null,
      "metadata": {
        "collapsed": false
      },
      "outputs": [],
      "source": [
        "cols_time = [\"time_avg\", \"time_med\"]\nfig, ax = plt.subplots(2, 1, figsize=(12, 6))\ndf.set_index(\"i\").drop(cols_time, axis=1).plot(\n    ax=ax[0], title=\"TreeEnsemble Performance time per row\", logy=True, linewidth=0.2\n)\ndf.set_index(\"i\")[cols_time].plot(ax=ax[1], linewidth=1.0, logy=True)\nfig.savefig(\"plot_bench_cpu.png\")"
      ]
    }
  ],
  "metadata": {
    "kernelspec": {
      "display_name": "Python 3",
      "language": "python",
      "name": "python3"
    },
    "language_info": {
      "codemirror_mode": {
        "name": "ipython",
        "version": 3
      },
      "file_extension": ".py",
      "mimetype": "text/x-python",
      "name": "python",
      "nbconvert_exporter": "python",
      "pygments_lexer": "ipython3",
      "version": "3.10.6"
    }
  },
  "nbformat": 4,
  "nbformat_minor": 0
}