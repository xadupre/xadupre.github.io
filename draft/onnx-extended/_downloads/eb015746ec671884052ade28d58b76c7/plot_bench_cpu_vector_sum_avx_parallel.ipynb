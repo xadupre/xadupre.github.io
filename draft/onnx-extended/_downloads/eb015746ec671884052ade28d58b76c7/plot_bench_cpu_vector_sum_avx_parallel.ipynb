{
  "cells": [
    {
      "cell_type": "code",
      "execution_count": null,
      "metadata": {
        "collapsed": false
      },
      "outputs": [],
      "source": [
        "%matplotlib inline"
      ]
    },
    {
      "cell_type": "markdown",
      "metadata": {},
      "source": [
        "\n\n# Measuring CPU performance with a parallelized vector sum and AVX\n\nThe example compares the time spend in computing the sum of all\ncoefficients of a matrix when the function walks through the coefficients\nby rows or by columns when the computation is parallelized or uses\nAVX instructions.\n\n## Vector Sum\n"
      ]
    },
    {
      "cell_type": "code",
      "execution_count": null,
      "metadata": {
        "collapsed": false
      },
      "outputs": [],
      "source": [
        "from tqdm import tqdm\nimport numpy\nimport matplotlib.pyplot as plt\nfrom pandas import DataFrame\nfrom onnx_extended.ext_test_case import measure_time, unit_test_going\nfrom onnx_extended.validation.cpu._validation import (\n    vector_sum_array as vector_sum,\n    vector_sum_array_parallel as vector_sum_parallel,\n    vector_sum_array_avx as vector_sum_avx,\n    vector_sum_array_avx_parallel as vector_sum_avx_parallel,\n)\n\nobs = []\ndims = [500, 700, 800, 900, 1000, 1100, 1200, 1300, 1400, 1500, 1600, 1700, 1800, 2000]\nif unit_test_going():\n    dims = dims[:3]\nfor dim in tqdm(dims):\n    values = numpy.ones((dim, dim), dtype=numpy.float32).ravel()\n    diff = abs(vector_sum(dim, values, True) - dim**2)\n\n    res = measure_time(lambda: vector_sum(dim, values, True), max_time=0.5)\n\n    obs.append(\n        dict(\n            dim=dim,\n            size=values.size,\n            time=res[\"average\"],\n            direction=\"rows\",\n            time_per_element=res[\"average\"] / dim**2,\n            diff=diff,\n        )\n    )\n\n    res = measure_time(lambda: vector_sum_parallel(dim, values, True), max_time=0.5)\n\n    obs.append(\n        dict(\n            dim=dim,\n            size=values.size,\n            time=res[\"average\"],\n            direction=\"rows//\",\n            time_per_element=res[\"average\"] / dim**2,\n            diff=diff,\n        )\n    )\n\n    diff = abs(vector_sum_avx(dim, values) - dim**2)\n    res = measure_time(lambda: vector_sum_avx(dim, values), max_time=0.5)\n\n    obs.append(\n        dict(\n            dim=dim,\n            size=values.size,\n            time=res[\"average\"],\n            direction=\"avx\",\n            time_per_element=res[\"average\"] / dim**2,\n            diff=diff,\n        )\n    )\n\n    diff = abs(vector_sum_avx_parallel(dim, values) - dim**2)\n    res = measure_time(lambda: vector_sum_avx_parallel(dim, values), max_time=0.5)\n\n    obs.append(\n        dict(\n            dim=dim,\n            size=values.size,\n            time=res[\"average\"],\n            direction=\"avx//\",\n            time_per_element=res[\"average\"] / dim**2,\n            diff=diff,\n        )\n    )\n\n\ndf = DataFrame(obs)\npiv = df.pivot(index=\"dim\", columns=\"direction\", values=\"time_per_element\")\nprint(piv)"
      ]
    },
    {
      "cell_type": "markdown",
      "metadata": {},
      "source": [
        "## Plots\n\n"
      ]
    },
    {
      "cell_type": "code",
      "execution_count": null,
      "metadata": {
        "collapsed": false
      },
      "outputs": [],
      "source": [
        "piv_diff = df.pivot(index=\"dim\", columns=\"direction\", values=\"diff\")\npiv_time = df.pivot(index=\"dim\", columns=\"direction\", values=\"time\")\n\nfig, ax = plt.subplots(1, 3, figsize=(12, 6))\npiv.plot(ax=ax[0], logx=True, title=\"Comparison between two summation\")\npiv_diff.plot(ax=ax[1], logx=True, logy=True, title=\"Summation errors\")\npiv_time.plot(ax=ax[2], logx=True, logy=True, title=\"Total time\")\nfig.savefig(\"plot_bench_cpu_vector_sum_avx_parallel.png\")"
      ]
    },
    {
      "cell_type": "markdown",
      "metadata": {},
      "source": [
        "AVX is faster.\n\n"
      ]
    }
  ],
  "metadata": {
    "kernelspec": {
      "display_name": "Python 3",
      "language": "python",
      "name": "python3"
    },
    "language_info": {
      "codemirror_mode": {
        "name": "ipython",
        "version": 3
      },
      "file_extension": ".py",
      "mimetype": "text/x-python",
      "name": "python",
      "nbconvert_exporter": "python",
      "pygments_lexer": "ipython3",
      "version": "3.10.6"
    }
  },
  "nbformat": 4,
  "nbformat_minor": 0
}