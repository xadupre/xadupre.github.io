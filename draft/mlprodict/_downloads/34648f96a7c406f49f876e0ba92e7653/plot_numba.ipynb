{
  "cells": [
    {
      "cell_type": "code",
      "execution_count": null,
      "metadata": {
        "collapsed": false
      },
      "outputs": [],
      "source": [
        "%matplotlib inline"
      ]
    },
    {
      "cell_type": "markdown",
      "metadata": {},
      "source": [
        "\n\n# Compares numba, numpy, onnxruntime for simple functions\n\nThe following benchmark is inspired from `bench_arrayexprs.py\n<https://github.com/numba/numba-benchmark/blob/master/benchmarks/bench_arrayexprs.py>`_.\nIt compares :epkg:`numba`, :epkg:`numpy` and :epkg:`onnxruntime`\nfor simple functions. As expected, :epkg:`numba` is better than the other options.\n\n## The functions\n"
      ]
    },
    {
      "cell_type": "code",
      "execution_count": null,
      "metadata": {
        "collapsed": false
      },
      "outputs": [],
      "source": [
        "import numpy\nimport pandas\nimport matplotlib.pyplot as plt\nfrom numba import jit\nfrom typing import Any\nimport numpy as np\nfrom tqdm import tqdm\nfrom cpyquickhelper.numbers.speed_measure import measure_time\nfrom mlprodict.npy import NDArray, onnxnumpy_np\nfrom mlprodict.npy.onnx_numpy_annotation import NDArrayType\nimport mlprodict.npy.numpy_onnx_impl as npnx\n\n\n# @jit(nopython=True)\ndef sum(a, b):\n    return a + b\n\n# @jit(nopython=True)\n\n\ndef sq_diff(a, b):\n    return (a - b) * (a + b)\n\n# @jit(nopython=True)\n\n\ndef rel_diff(a, b):\n    return (a - b) / (a + b)\n\n# @jit(nopython=True)\n\n\ndef square(a):\n    # Note this is currently slower than `a ** 2 + b`, due to how LLVM\n    # seems to lower the power intrinsic.  It's still faster than the naive\n    # lowering as `exp(2 * log(a))`, though\n    return a ** 2\n\n\ndef cube(a):\n    return a ** 3"
      ]
    },
    {
      "cell_type": "markdown",
      "metadata": {},
      "source": [
        "## ONNX version\n\nThe implementation uses the numpy API for ONNX to keep the same code.\n\n"
      ]
    },
    {
      "cell_type": "code",
      "execution_count": null,
      "metadata": {
        "collapsed": false
      },
      "outputs": [],
      "source": [
        "@onnxnumpy_np(signature=NDArrayType((\"T:all\", \"T\"), dtypes_out=('T',)),\n              runtime=\"onnxruntime\")\ndef onnx_sum_32(a, b):\n    return a + b\n\n\n@onnxnumpy_np(signature=NDArrayType((\"T:all\", \"T\"), dtypes_out=('T',)),\n              runtime=\"onnxruntime\")\ndef onnx_sq_diff_32(a, b):\n    return (a - b) * (a + b)\n\n\n@onnxnumpy_np(signature=NDArrayType((\"T:all\", \"T\"), dtypes_out=('T',)),\n              runtime=\"onnxruntime\")\ndef onnx_rel_diff_32(a, b):\n    return (a - b) / (a + b)\n\n\n@onnxnumpy_np(signature=NDArrayType((\"T:all\", ), dtypes_out=('T',)),\n              runtime=\"onnxruntime\")\ndef onnx_square_32(a):\n    return a ** 2\n\n\n@onnxnumpy_np(signature=NDArrayType((\"T:all\", ), dtypes_out=('T',)),\n              runtime=\"onnxruntime\")\ndef onnx_cube_32(a):\n    return a ** 3"
      ]
    },
    {
      "cell_type": "markdown",
      "metadata": {},
      "source": [
        "## numba optimized\n\n"
      ]
    },
    {
      "cell_type": "code",
      "execution_count": null,
      "metadata": {
        "collapsed": false
      },
      "outputs": [],
      "source": [
        "jitter = jit(nopython=True)\nnu_sum = jitter(sum)\nnu_sq_diff = jitter(sq_diff)\nnu_rel_diff = jitter(rel_diff)\nnu_square = jitter(square)\nnu_cube = jitter(cube)"
      ]
    },
    {
      "cell_type": "markdown",
      "metadata": {},
      "source": [
        "## Benchmark\n\n"
      ]
    },
    {
      "cell_type": "code",
      "execution_count": null,
      "metadata": {
        "collapsed": false
      },
      "outputs": [],
      "source": [
        "obs = []\n\nfor n in tqdm([10, 100, 1000, 10000, 100000, 1000000]):\n    number = 100 if n < 1000000 else 10\n    for dtype in [numpy.float32, numpy.float64]:\n        samples = [\n            [numpy.random.uniform(1.0, 2.0, size=n).astype(dtype)],\n            [numpy.random.uniform(1.0, 2.0, size=n).astype(dtype)\n             for i in range(2)]]\n\n        for fct1, fct2, fct3, n_inputs in [\n                (sum, nu_sum, onnx_sum_32, 2),\n                (sq_diff, nu_sq_diff, onnx_sq_diff_32, 2),\n                (rel_diff, nu_rel_diff, onnx_rel_diff_32, 2),\n                (square, nu_square, onnx_square_32, 1),\n                (cube, nu_cube, onnx_cube_32, 1)]:\n            sample = samples[n_inputs - 1]\n            if n_inputs == 2:\n                fct1(*sample)\n                fct1(*sample)\n                r = measure_time('fct1(a,b)', number=number, div_by_number=True,\n                                 context={'fct1': fct1, 'a': sample[0], 'b': sample[1]})\n                r.update(dict(dtype=dtype, name='numpy', n=n, fct=fct1.__name__))\n                obs.append(r)\n\n                fct2(*sample)\n                fct2(*sample)\n                r = measure_time('fct2(a,b)', number=number, div_by_number=True,\n                                 context={'fct2': fct2, 'a': sample[0], 'b': sample[1]})\n                r.update(dict(dtype=dtype, name='numba', n=n, fct=fct1.__name__))\n                obs.append(r)\n\n                fct3(*sample)\n                fct3(*sample)\n                r = measure_time('fct3(a,b)', number=number, div_by_number=True,\n                                 context={'fct3': fct3, 'a': sample[0], 'b': sample[1]})\n                r.update(dict(dtype=dtype, name='onnx', n=n, fct=fct1.__name__))\n                obs.append(r)\n            else:\n                fct1(*sample)\n                fct1(*sample)\n                r = measure_time('fct1(a)', number=number, div_by_number=True,\n                                 context={'fct1': fct1, 'a': sample[0]})\n                r.update(dict(dtype=dtype, name='numpy', n=n, fct=fct1.__name__))\n                obs.append(r)\n\n                fct2(*sample)\n                fct2(*sample)\n                r = measure_time('fct2(a)', number=number, div_by_number=True,\n                                 context={'fct2': fct2, 'a': sample[0]})\n                r.update(dict(dtype=dtype, name='numba', n=n, fct=fct1.__name__))\n                obs.append(r)\n\n                fct3(*sample)\n                fct3(*sample)\n                r = measure_time('fct3(a)', number=number, div_by_number=True,\n                                 context={'fct3': fct3, 'a': sample[0]})\n                r.update(dict(dtype=dtype, name='onnx', n=n, fct=fct1.__name__))\n                obs.append(r)\n\ndf = pandas.DataFrame(obs)\nprint(df)"
      ]
    },
    {
      "cell_type": "markdown",
      "metadata": {},
      "source": [
        "## Graphs\n\n"
      ]
    },
    {
      "cell_type": "code",
      "execution_count": null,
      "metadata": {
        "collapsed": false
      },
      "outputs": [],
      "source": [
        "fcts = list(sorted(set(df.fct)))\nfig, ax = plt.subplots(len(fcts), 2, figsize=(14, len(fcts) * 3))\n\nfor i, fn in enumerate(fcts):\n    piv = pandas.pivot(data=df[(df.fct == fn) & (df.dtype == numpy.float32)],\n                       index=\"n\", columns=\"name\", values=\"average\")\n    piv.plot(title=\"fct=%s - float32\" % fn,\n             logx=True, logy=True, ax=ax[i, 0])\n    piv = pandas.pivot(data=df[(df.fct == fn) & (df.dtype == numpy.float64)],\n                       index=\"n\", columns=\"name\", values=\"average\")\n    piv.plot(title=\"fct=%s - float64\" % fn,\n             logx=True, logy=True, ax=ax[i, 1])\nplt.show()"
      ]
    }
  ],
  "metadata": {
    "kernelspec": {
      "display_name": "Python 3",
      "language": "python",
      "name": "python3"
    },
    "language_info": {
      "codemirror_mode": {
        "name": "ipython",
        "version": 3
      },
      "file_extension": ".py",
      "mimetype": "text/x-python",
      "name": "python",
      "nbconvert_exporter": "python",
      "pygments_lexer": "ipython3",
      "version": "3.9.1"
    }
  },
  "nbformat": 4,
  "nbformat_minor": 0
}