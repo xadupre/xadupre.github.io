{
  "cells": [
    {
      "cell_type": "code",
      "execution_count": null,
      "metadata": {
        "collapsed": false
      },
      "outputs": [],
      "source": [
        "%matplotlib inline"
      ]
    },
    {
      "cell_type": "markdown",
      "metadata": {},
      "source": [
        "\n\n# Speed up scikit-learn inference with ONNX\n\nIs it possible to make :epkg:`scikit-learn` faster with ONNX?\nThat's question this example tries to answer. The scenario is\nis the following:\n\n* a model is trained\n* it is converted into ONNX for inference\n* it selects a runtime to compute the prediction\n\nThe following runtime are tested:\n\n* `python`: python runtime for ONNX\n* `onnxruntime1`: :epkg:`onnxruntime`\n* `numpy`: the ONNX graph is converted into numpy code\n* `numba`: the numpy code is accelerated with :epkg:`numba`.\n\n## PCA\n\nLet's look at a very simple model, a PCA.\n"
      ]
    },
    {
      "cell_type": "code",
      "execution_count": null,
      "metadata": {
        "collapsed": false
      },
      "outputs": [],
      "source": [
        "import numpy\nfrom pandas import DataFrame\nimport matplotlib.pyplot as plt\nfrom sklearn.datasets import make_regression\nfrom sklearn.decomposition import PCA\nfrom pyquickhelper.pycode.profiling import profile\nfrom mlprodict.sklapi import OnnxSpeedupTransformer\nfrom cpyquickhelper.numbers.speed_measure import measure_time\nfrom tqdm import tqdm"
      ]
    },
    {
      "cell_type": "markdown",
      "metadata": {},
      "source": [
        "Data and models to test.\n\n"
      ]
    },
    {
      "cell_type": "code",
      "execution_count": null,
      "metadata": {
        "collapsed": false
      },
      "outputs": [],
      "source": [
        "data, _ = make_regression(1000, n_features=20)\ndata = data.astype(numpy.float32)\nmodels = [\n    ('sklearn', PCA(n_components=10)),\n    ('python', OnnxSpeedupTransformer(\n        PCA(n_components=10), runtime='python')),\n    ('onnxruntime1', OnnxSpeedupTransformer(\n        PCA(n_components=10), runtime='onnxruntime1')),\n    ('numpy', OnnxSpeedupTransformer(\n        PCA(n_components=10), runtime='numpy')),\n    ('numba', OnnxSpeedupTransformer(\n        PCA(n_components=10), runtime='numba'))]"
      ]
    },
    {
      "cell_type": "markdown",
      "metadata": {},
      "source": [
        "Training.\n\n"
      ]
    },
    {
      "cell_type": "code",
      "execution_count": null,
      "metadata": {
        "collapsed": false
      },
      "outputs": [],
      "source": [
        "for name, model in tqdm(models):\n    model.fit(data)"
      ]
    },
    {
      "cell_type": "markdown",
      "metadata": {},
      "source": [
        "Profiling of runtime `onnxruntime1`.\n\n"
      ]
    },
    {
      "cell_type": "code",
      "execution_count": null,
      "metadata": {
        "collapsed": false
      },
      "outputs": [],
      "source": [
        "def fct():\n    for i in range(1000):\n        models[2][1].transform(data)\n\n\nres = profile(fct, pyinst_format=\"text\")\nprint(res[1])"
      ]
    },
    {
      "cell_type": "markdown",
      "metadata": {},
      "source": [
        "Profiling of runtime `numpy`.\n\n"
      ]
    },
    {
      "cell_type": "code",
      "execution_count": null,
      "metadata": {
        "collapsed": false
      },
      "outputs": [],
      "source": [
        "def fct():\n    for i in range(1000):\n        models[3][1].transform(data)\n\n\nres = profile(fct, pyinst_format=\"text\")\nprint(res[1])"
      ]
    },
    {
      "cell_type": "markdown",
      "metadata": {},
      "source": [
        "The class *OnnxSpeedupTransformer* converts the PCA\ninto ONNX and then converts it into a python code using\n*numpy*. The code is the following.\n\n"
      ]
    },
    {
      "cell_type": "code",
      "execution_count": null,
      "metadata": {
        "collapsed": false
      },
      "outputs": [],
      "source": [
        "print(models[3][1].numpy_code_)"
      ]
    },
    {
      "cell_type": "markdown",
      "metadata": {},
      "source": [
        "Benchmark.\n\n"
      ]
    },
    {
      "cell_type": "code",
      "execution_count": null,
      "metadata": {
        "collapsed": false
      },
      "outputs": [],
      "source": [
        "bench = []\nfor name, model in tqdm(models):\n    for size in (1, 10, 100, 1000, 10000, 100000, 200000):\n        data, _ = make_regression(size, n_features=20)\n        data = data.astype(numpy.float32)\n\n        # We run it a first time (numba compiles\n        # the function during the first execution).\n        model.transform(data)\n        res = measure_time(\n            lambda: model.transform(data), div_by_number=True,\n            context={'data': data, 'model': model})\n        res['name'] = name\n        res['size'] = size\n        bench.append(res)\n\ndf = DataFrame(bench)\npiv = df.pivot(\"size\", \"name\", \"average\")\npiv"
      ]
    },
    {
      "cell_type": "markdown",
      "metadata": {},
      "source": [
        "Graph.\n\n"
      ]
    },
    {
      "cell_type": "code",
      "execution_count": null,
      "metadata": {
        "collapsed": false
      },
      "outputs": [],
      "source": [
        "fig, ax = plt.subplots(1, 2, figsize=(10, 4))\npiv.plot(title=\"Speedup PCA with ONNX (lower better)\",\n         logx=True, logy=True, ax=ax[0])\npiv2 = piv.copy()\nfor c in piv2.columns:\n    piv2[c] /= piv['sklearn']\nprint(piv2)\npiv2.plot(title=\"baseline=scikit-learn (lower better)\",\n          logx=True, logy=True, ax=ax[1])\nplt.show()"
      ]
    }
  ],
  "metadata": {
    "kernelspec": {
      "display_name": "Python 3",
      "language": "python",
      "name": "python3"
    },
    "language_info": {
      "codemirror_mode": {
        "name": "ipython",
        "version": 3
      },
      "file_extension": ".py",
      "mimetype": "text/x-python",
      "name": "python",
      "nbconvert_exporter": "python",
      "pygments_lexer": "ipython3",
      "version": "3.9.1"
    }
  },
  "nbformat": 4,
  "nbformat_minor": 0
}