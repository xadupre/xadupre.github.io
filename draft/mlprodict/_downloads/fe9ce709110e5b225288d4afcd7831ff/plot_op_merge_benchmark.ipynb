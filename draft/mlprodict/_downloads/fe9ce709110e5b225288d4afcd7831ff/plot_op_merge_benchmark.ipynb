{
  "cells": [
    {
      "cell_type": "code",
      "execution_count": null,
      "metadata": {
        "collapsed": false
      },
      "outputs": [],
      "source": [
        "%matplotlib inline"
      ]
    },
    {
      "cell_type": "markdown",
      "metadata": {},
      "source": [
        "\n\n# Merges benchmarks\n\nThis script merges benchmark from `l-b-reducesummax`,\n`l-b-reducesummean`, `l-b-reducesum`.\n\n## Reads data\n\nOne file looks like this:\n"
      ]
    },
    {
      "cell_type": "code",
      "execution_count": null,
      "metadata": {
        "collapsed": false
      },
      "outputs": [],
      "source": [
        "import os\nimport pandas\nimport matplotlib.pyplot as plt\n\ndf = pandas.read_excel(\"keep_plot_reducesum_master.xlsx\")\ndf.head(n=4).T"
      ]
    },
    {
      "cell_type": "markdown",
      "metadata": {},
      "source": [
        "The other files.\n\n"
      ]
    },
    {
      "cell_type": "code",
      "execution_count": null,
      "metadata": {
        "collapsed": false
      },
      "outputs": [],
      "source": [
        "index = ['fct', 'axes', 'N', 'shape']\nvalue = ['average']\nfiles = [\n    ('ReduceSum', 'keep_plot_reducesum_master.xlsx', 'keep_plot_reducesum.xlsx'),\n    ('ReduceMax', 'plot_reducemax_master.xlsx', 'plot_reducemax.xlsx'),\n    ('ReduceMean', 'plot_reducemean_master.xlsx', 'plot_reducemean.xlsx'),\n]\n\nmerged = []\nfor title, ref, impl in files:\n    if not os.path.exists(ref) or not os.path.exists(impl):\n        continue\n    df1 = pandas.read_excel(ref)\n    df2 = pandas.read_excel(impl)\n    df1 = df1[index + value]\n    df2 = df2[index + value]\n    merge = df1.merge(df2, on=index, suffixes=('_ref', '_new'))\n    merge['op'] = title\n    merge['SpeedUp'] = merge[value[0] + \"_ref\"] / merge[value[0] + \"_new\"]\n    merged.append(merge)\n\nall_merged = pandas.concat(merged)\nall_merged = all_merged.sort_values(['op'] + index)\nall_merged.head()"
      ]
    },
    {
      "cell_type": "markdown",
      "metadata": {},
      "source": [
        "## Markdown\n\n"
      ]
    },
    {
      "cell_type": "code",
      "execution_count": null,
      "metadata": {
        "collapsed": false
      },
      "outputs": [],
      "source": [
        "piv = all_merged.pivot_table(values=['SpeedUp'], index=index, columns=['op'])\npiv = piv.reset_index(drop=False).sort_values(index)\npiv.columns = index + [_[1] for _ in piv.columns[4:]]\n#print(piv.to_markdown(index=False, floatfmt=\".2f\"))"
      ]
    },
    {
      "cell_type": "markdown",
      "metadata": {},
      "source": [
        "## Graphs\n\n"
      ]
    },
    {
      "cell_type": "code",
      "execution_count": null,
      "metadata": {
        "collapsed": false
      },
      "outputs": [],
      "source": [
        "df = all_merged\ngraph_col = ['op', 'axes']\nset_val = set(tuple(_[1:]) for _ in df[graph_col].itertuples())\n\naxes = list(sorted(set(df['axes'])))\nop = list(sorted(set(df['op'])))\n\nfor suffix in ['_ref', '_new']:\n    fig, ax = plt.subplots(len(axes), len(op), figsize=(14, 14))\n    for i, a in enumerate(axes):\n        for j, o in enumerate(op):\n            sub = df[(df['op'] == o) & (df['axes'] == a)]\n            piv = sub.pivot(\"N\", \"fct\", \"average\" + suffix)\n            ref = piv['numpy'].copy()\n            for c in piv.columns:\n                piv[c] = ref / piv[c]\n            piv.plot(ax=ax[i, j], logx=True)\n            shape = list(sub['shape'])[0]\n            ax[i, j].set_title(\"%s - %s - %s\" % (o, a, shape), fontsize=5)\n            ax[i, j].legend(fontsize=5)\n            plt.setp(ax[i, j].get_xticklabels(), fontsize=5)\n            plt.setp(ax[i, j].get_yticklabels(), fontsize=5)\n    fig.suptitle(suffix)\n\nplt.show()"
      ]
    }
  ],
  "metadata": {
    "kernelspec": {
      "display_name": "Python 3",
      "language": "python",
      "name": "python3"
    },
    "language_info": {
      "codemirror_mode": {
        "name": "ipython",
        "version": 3
      },
      "file_extension": ".py",
      "mimetype": "text/x-python",
      "name": "python",
      "nbconvert_exporter": "python",
      "pygments_lexer": "ipython3",
      "version": "3.9.1"
    }
  },
  "nbformat": 4,
  "nbformat_minor": 0
}