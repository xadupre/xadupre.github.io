{
  "cells": [
    {
      "cell_type": "code",
      "execution_count": null,
      "metadata": {
        "collapsed": false
      },
      "outputs": [],
      "source": [
        "%matplotlib inline"
      ]
    },
    {
      "cell_type": "markdown",
      "metadata": {},
      "source": [
        "\n\n# Compares implementations of Where\n\nThis example compares implementations of function :epkg:`numpy:where`\nfrom :epkg:`numpy`, :epkg:`onnxruntime`.\n:epkg:`tensorflow` and :epkg:`pytorch` are included as well if available.\nThe benchmark also compares the operator *where* to an equivalent implementation\n`where(c, x, y) = x * c - y * (c - 1)`.\n\n## Available optimisation\n"
      ]
    },
    {
      "cell_type": "code",
      "execution_count": null,
      "metadata": {
        "collapsed": false
      },
      "outputs": [],
      "source": [
        "import numpy\nimport pandas\nimport matplotlib.pyplot as plt\nfrom onnxruntime import InferenceSession\nfrom skl2onnx.common.data_types import FloatTensorType, BooleanTensorType\nfrom skl2onnx.algebra.onnx_ops import OnnxWhere, OnnxSub, OnnxMul\nfrom cpyquickhelper.numbers import measure_time\nfrom tqdm import tqdm\nfrom mlprodict.testing.experimental_c_impl.experimental_c import code_optimisation\nprint(code_optimisation())"
      ]
    },
    {
      "cell_type": "markdown",
      "metadata": {},
      "source": [
        "## Where: common code\n\n"
      ]
    },
    {
      "cell_type": "code",
      "execution_count": null,
      "metadata": {
        "collapsed": false
      },
      "outputs": [],
      "source": [
        "try:\n    from tensorflow import where as tf_where, convert_to_tensor\nexcept ImportError:\n    tf_where = None\ntry:\n    from torch import where as torch_where, from_numpy\nexcept ImportError:\n    torch_where = None\n\n\ndef build_ort_where(op_version=12):\n    node = OnnxWhere('cond', 'x', 'y', op_version=op_version,\n                     output_names=['z'])\n    onx = node.to_onnx(inputs=[('cond', BooleanTensorType()),\n                               ('x', FloatTensorType()),\n                               ('y', FloatTensorType())],\n                       target_opset=op_version)\n    sess = InferenceSession(onx.SerializeToString())\n    return lambda cond, x, y: sess.run(None, {'cond': cond, 'x': x, 'y': y})\n\n\ndef build_ort_where_add(op_version=12):\n    node = OnnxSub(\n        OnnxMul('x', 'cond', op_version=op_version),\n        OnnxMul('y',\n                OnnxSub('cond', numpy.array([1], dtype=numpy.float32),\n                        op_version=op_version),\n                op_version=op_version),\n        op_version=op_version, output_names=['z'])\n    onx = node.to_onnx(inputs=[('cond', FloatTensorType()),\n                               ('x', FloatTensorType()),\n                               ('y', FloatTensorType())],\n                       target_opset=op_version)\n    sess = InferenceSession(onx.SerializeToString())\n    return lambda cond, x, y: sess.run(None, {'cond': cond, 'x': x, 'y': y})\n\n\ndef numpy_where_add(cond, x, y):\n    cx = x * cond\n    cy = cond - 1\n    numpy.multiply(y, cy, out=y)\n    numpy.subtract(cx, cy, out=cx)\n    return cx\n\n\ndef loop_where(fct, conds, xs, ys):\n    for cond, x, y in zip(conds, xs, ys):\n        fct(cond, x, y)\n\n\ndef benchmark_equation():\n    # equations\n    ort_where = build_ort_where()\n    ort_where_add = build_ort_where_add()\n    res = []\n    for dim in tqdm([8, 16, 32, 64, 100, 128, 200,\n                     256, 500, 512, 1024, 2048]):\n        repeat = 5\n        number = 10\n\n        conds = [(numpy.random.rand(dim, dim) < 0.5).astype(numpy.bool_)\n                 for _ in range(repeat)]\n        xs = [numpy.random.rand(dim, dim).astype(numpy.float32)\n              for _ in range(repeat)]\n        ys = [numpy.random.rand(dim, dim).astype(numpy.float32)\n              for _ in range(repeat)]\n\n        # numpy\n        ctx = dict(conds=conds, xs=xs, ys=ys, where=numpy.where,\n                   loop_where=loop_where)\n        obs = measure_time(\n            \"loop_where(where, conds, xs, ys)\",\n            div_by_number=True, context=ctx, repeat=repeat, number=number)\n        obs['dim'] = dim\n        obs['fct'] = 'numpy.where'\n        res.append(obs)\n\n        # numpy add\n        ctx['where'] = numpy_where_add\n        obs = measure_time(\n            \"loop_where(where, conds, xs, ys)\",\n            div_by_number=True, context=ctx, repeat=repeat, number=number)\n        obs['dim'] = dim\n        obs['fct'] = 'numpy_where_add'\n        res.append(obs)\n\n        # onnxruntime\n        ctx['where'] = ort_where\n        obs = measure_time(\n            \"loop_where(where, conds, xs, ys)\",\n            div_by_number=True, context=ctx, repeat=repeat, number=number)\n        obs['dim'] = dim\n        obs['fct'] = 'ort_where'\n        res.append(obs)\n\n        # onnxruntime - 2\n        ctx['where'] = ort_where_add\n        ctx['conds'] = [c.astype(numpy.float32) for c in conds]\n        obs = measure_time(\n            \"loop_where(where, conds, xs, ys)\",\n            div_by_number=True, context=ctx, repeat=repeat, number=number)\n        obs['dim'] = dim\n        obs['fct'] = 'ort_where_add'\n        res.append(obs)\n\n        if tf_where is not None:\n            # tensorflow\n            ctx['where'] = tf_where\n            ctx['conds'] = [convert_to_tensor(c) for c in conds]\n            ctx['xs'] = [convert_to_tensor(x) for x in xs]\n            ctx['ys'] = [convert_to_tensor(y) for y in ys]\n            obs = measure_time(\n                \"loop_where(where, conds, xs, ys)\",\n                div_by_number=True, context=ctx, repeat=repeat, number=number)\n            obs['dim'] = dim\n            obs['fct'] = 'tf_where'\n            res.append(obs)\n\n        if torch_where is not None:\n            # torch\n            ctx['where'] = torch_where\n            ctx['conds'] = [from_numpy(c) for c in conds]\n            ctx['xs'] = [from_numpy(x) for x in xs]\n            ctx['ys'] = [from_numpy(y) for y in ys]\n            obs = measure_time(\n                \"loop_where(where, conds, xs, ys)\",\n                div_by_number=True, context=ctx, repeat=repeat, number=number)\n            obs['dim'] = dim\n            obs['fct'] = 'torch_where'\n            res.append(obs)\n\n    # Dataframes\n    df = pandas.DataFrame(res)\n    piv = df.pivot('dim', 'fct', 'average')\n\n    rs = piv.copy()\n    rs['ort_where'] = rs['numpy.where'] / rs['ort_where']\n    rs['numpy_where_add'] = rs['numpy.where'] / rs['numpy_where_add']\n    rs['ort_where_add'] = rs['numpy.where'] / rs['ort_where_add']\n    if 'tf_where' in rs.columns:\n        rs['tf_where'] = rs['numpy.where'] / rs['tf_where']\n    if 'torch_where' in rs.columns:\n        rs['torch_where'] = rs['numpy.where'] / rs['torch_where']\n    rs['numpy.where'] = 1.\n\n    # Graphs.\n    fig, ax = plt.subplots(1, 2, figsize=(12, 4))\n    piv.plot(logx=True, logy=True, ax=ax[0],\n             title=\"Where benchmark -- (N, N)\\nlower better\")\n    ax[0].legend(prop={\"size\": 9})\n    rs.plot(logx=True, logy=True, ax=ax[1],\n            title=\"Where Speedup, baseline=numpy -- (N, N)\\nhigher better\")\n    ax[1].plot([min(rs.index), max(rs.index)], [0.5, 0.5], 'g--')\n    ax[1].plot([min(rs.index), max(rs.index)], [2., 2.], 'g--')\n    ax[1].legend(prop={\"size\": 9})\n\n    return df, rs, ax\n\n\n############\n# Benchmark\n# +++++++++\n\ndf, piv, ax = benchmark_equation()\ndf.pivot(\"fct\", \"dim\", \"average\")\ndfs = [df]"
      ]
    },
    {
      "cell_type": "markdown",
      "metadata": {},
      "source": [
        "## Conclusion\n\nThe implementation of Where should be faster\nthan the formula `where(c, x, y) = x * c - y * (c - 1)`.\n\n"
      ]
    },
    {
      "cell_type": "code",
      "execution_count": null,
      "metadata": {
        "collapsed": false
      },
      "outputs": [],
      "source": [
        "merged = pandas.concat(dfs)\nname = \"where\"\nmerged.to_csv(\"plot_%s.csv\" % name, index=False)\nmerged.to_excel(\"plot_%s.xlsx\" % name, index=False)\nplt.savefig(\"plot_%s.png\" % name)\n\nplt.show()"
      ]
    }
  ],
  "metadata": {
    "kernelspec": {
      "display_name": "Python 3",
      "language": "python",
      "name": "python3"
    },
    "language_info": {
      "codemirror_mode": {
        "name": "ipython",
        "version": 3
      },
      "file_extension": ".py",
      "mimetype": "text/x-python",
      "name": "python",
      "nbconvert_exporter": "python",
      "pygments_lexer": "ipython3",
      "version": "3.9.1"
    }
  },
  "nbformat": 4,
  "nbformat_minor": 0
}