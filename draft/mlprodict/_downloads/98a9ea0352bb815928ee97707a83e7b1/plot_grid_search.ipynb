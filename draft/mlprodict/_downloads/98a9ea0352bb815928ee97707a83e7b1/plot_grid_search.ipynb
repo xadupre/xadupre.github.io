{
  "cells": [
    {
      "cell_type": "code",
      "execution_count": null,
      "metadata": {
        "collapsed": false
      },
      "outputs": [],
      "source": [
        "%matplotlib inline"
      ]
    },
    {
      "cell_type": "markdown",
      "metadata": {},
      "source": [
        "\n\n# Grid search ONNX models\n\nThis example uses *OnnxTransformer* to freeze a model.\nMany preprocessing are fitted, converted into :epkg:`ONNX`\nand inserted into a pipeline with *OnnxTransformer*\nsi that they do not have to be fitted again.\nThe grid search will pick the best one for the task.\n\n## Fit all preprocessings and serialize with ONNX\n"
      ]
    },
    {
      "cell_type": "code",
      "execution_count": null,
      "metadata": {
        "collapsed": false
      },
      "outputs": [],
      "source": [
        "from sklearn.pipeline import make_pipeline\nfrom sklearn.decomposition import PCA\nfrom sklearn.preprocessing import StandardScaler\nfrom sklearn.datasets import load_iris\nfrom sklearn.linear_model import LogisticRegression\nfrom sklearn.model_selection import train_test_split\nfrom sklearn.model_selection import GridSearchCV\nfrom sklearn.metrics import classification_report\nfrom sklearn.exceptions import ConvergenceWarning\nfrom sklearn.utils._testing import ignore_warnings\nfrom skl2onnx.common.data_types import FloatTensorType\nfrom skl2onnx import convert_sklearn\nfrom mlprodict.sklapi import OnnxTransformer\n\niris = load_iris()\nX, y = iris.data, iris.target\nX_train, X_test, y_train, y_test = train_test_split(X, y)\n\ndec_models = [\n    PCA(n_components=1),\n    PCA(n_components=2),\n    StandardScaler(),\n]\n\nonx_bytes = []\n\nfor model in dec_models:\n    model.fit(X_train)\n    onx = convert_sklearn(\n        model, initial_types=[('X', FloatTensorType((None, X.shape[1])))])\n    onx_bytes.append(onx.SerializeToString())"
      ]
    },
    {
      "cell_type": "markdown",
      "metadata": {},
      "source": [
        "## Pipeline with OnnxTransformer\n\n"
      ]
    },
    {
      "cell_type": "code",
      "execution_count": null,
      "metadata": {
        "collapsed": false
      },
      "outputs": [],
      "source": [
        "pipe = make_pipeline(OnnxTransformer(onx_bytes[0]),\n                     LogisticRegression(multi_class='ovr'))"
      ]
    },
    {
      "cell_type": "markdown",
      "metadata": {},
      "source": [
        "## Grid Search\n\nThe serialized models are now used as a parameter\nin the grid search.\n\n"
      ]
    },
    {
      "cell_type": "code",
      "execution_count": null,
      "metadata": {
        "collapsed": false
      },
      "outputs": [],
      "source": [
        "param_grid = [{'onnxtransformer__onnx_bytes': onx_bytes,\n               'logisticregression__penalty': ['l2', 'l1'],\n               'logisticregression__solver': ['liblinear', 'saga']\n               }]\n\n\n@ignore_warnings(category=ConvergenceWarning)\ndef fit(pipe, param_grid, cv=3):\n    clf = GridSearchCV(pipe, param_grid, cv=3, n_jobs=1)\n    clf.fit(X_train, y_train)\n    return clf\n\n\nclf = fit(pipe, param_grid)\n\ny_true, y_pred = y_test, clf.predict(X_test)\ncl = classification_report(y_true, y_pred)\nprint(cl)"
      ]
    },
    {
      "cell_type": "markdown",
      "metadata": {},
      "source": [
        "## Best preprocessing?\n\nWe get the best parameters returned by the grid search\nand we search for it in the list of serialized\npreprocessing models.\nAnd the winner is...\n\n"
      ]
    },
    {
      "cell_type": "code",
      "execution_count": null,
      "metadata": {
        "collapsed": false
      },
      "outputs": [],
      "source": [
        "bp = clf.best_params_\nbest_step = onx_bytes.index(bp[\"onnxtransformer__onnx_bytes\"])\nprint(dec_models[best_step])"
      ]
    }
  ],
  "metadata": {
    "kernelspec": {
      "display_name": "Python 3",
      "language": "python",
      "name": "python3"
    },
    "language_info": {
      "codemirror_mode": {
        "name": "ipython",
        "version": 3
      },
      "file_extension": ".py",
      "mimetype": "text/x-python",
      "name": "python",
      "nbconvert_exporter": "python",
      "pygments_lexer": "ipython3",
      "version": "3.9.1"
    }
  },
  "nbformat": 4,
  "nbformat_minor": 0
}