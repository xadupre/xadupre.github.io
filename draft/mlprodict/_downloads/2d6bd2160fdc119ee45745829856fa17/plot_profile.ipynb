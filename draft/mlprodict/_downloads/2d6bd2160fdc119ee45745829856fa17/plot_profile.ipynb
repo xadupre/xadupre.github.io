{
  "cells": [
    {
      "cell_type": "code",
      "execution_count": null,
      "metadata": {
        "collapsed": false
      },
      "outputs": [],
      "source": [
        "%matplotlib inline"
      ]
    },
    {
      "cell_type": "markdown",
      "metadata": {},
      "source": [
        "\n\n# Profile the execution of a runtime\n\nThe following example shows how to profile the execution\nof a model with different runtime.\n\n## Training and converting a model\n"
      ]
    },
    {
      "cell_type": "code",
      "execution_count": null,
      "metadata": {
        "collapsed": false
      },
      "outputs": [],
      "source": [
        "import numpy\nimport matplotlib.pyplot as plt\nfrom sklearn.datasets import load_boston\nfrom sklearn.ensemble import AdaBoostRegressor\nfrom sklearn.tree import DecisionTreeRegressor\nfrom pyquickhelper.pycode.profiling import profile\nfrom mlprodict.onnx_conv import to_onnx\nfrom mlprodict.onnxrt import OnnxInference\nfrom mlprodict import get_ir_version\n\ndata = load_boston()\nX, y = data.data, data.target\n\ndt = DecisionTreeRegressor()\ndt.fit(X, y)\nonx = to_onnx(dt, X[:1].astype(numpy.float32), target_opset=11)\noinf = OnnxInference(onx, runtime='python_compiled')\nprint(oinf)"
      ]
    },
    {
      "cell_type": "markdown",
      "metadata": {},
      "source": [
        "## Profiling and comparison with scikit-learn\n\n"
      ]
    },
    {
      "cell_type": "code",
      "execution_count": null,
      "metadata": {
        "collapsed": false
      },
      "outputs": [],
      "source": [
        "X32 = X.astype(numpy.float32)\n\n\ndef runlocaldt():\n    for i in range(0, 5000):\n        oinf.run({'X': X32[:10]})\n        dt.predict(X[:10])\n\n\nprint(\"profiling...\")\ntxt = profile(runlocaldt, pyinst_format='text')\nprint(txt[1])"
      ]
    },
    {
      "cell_type": "markdown",
      "metadata": {},
      "source": [
        "## Profiling for AdaBoostRegressor\n\nThe next example shows how long the python runtime\nspends in each operator.\n\n"
      ]
    },
    {
      "cell_type": "code",
      "execution_count": null,
      "metadata": {
        "collapsed": false
      },
      "outputs": [],
      "source": [
        "ada = AdaBoostRegressor()\nada.fit(X, y)\nonx = to_onnx(ada, X[:1].astype(numpy.float32), target_opset=11)\noinf = OnnxInference(onx, runtime='python_compiled')\nprint(oinf)"
      ]
    },
    {
      "cell_type": "markdown",
      "metadata": {},
      "source": [
        "The profiling.\n\n"
      ]
    },
    {
      "cell_type": "code",
      "execution_count": null,
      "metadata": {
        "collapsed": false
      },
      "outputs": [],
      "source": [
        "def runlocal():\n    for i in range(0, 500):\n        oinf.run({'X': X32})\n\n\nprint(\"profiling...\")\ntxt = profile(runlocal, pyinst_format='text')\nprint(txt[1])"
      ]
    },
    {
      "cell_type": "markdown",
      "metadata": {},
      "source": [
        "## With a different runtime\n\nLet's compare to :epkg:`onnxruntime`.\n\n"
      ]
    },
    {
      "cell_type": "code",
      "execution_count": null,
      "metadata": {
        "collapsed": false
      },
      "outputs": [],
      "source": [
        "onx.ir_version = get_ir_version(11)\noinf = OnnxInference(onx, runtime='onnxruntime1')\n\n\ndef runlocalort():\n    for i in range(0, 500):\n        oinf.run({'X': X32})\n\n\nprint(\"profiling with onnxruntime...\")\ntxt = profile(runlocalort, pyinst_format='text')\nprint(txt[1])"
      ]
    },
    {
      "cell_type": "markdown",
      "metadata": {},
      "source": [
        "## py-spy\n\n:epkg:`py-spy` may be used to dig into native\nfunctions. An example can be found at:\n`Profiling AdaBoostRegressor\n<http://www.xavierdupre.fr/app/_benchmarks/\nhelpsphinx/onnx/onnx_profiling_reg_adaboost.html#\nprofiling-adaboostregressor>`_.\nThe last piece of code uses the standard\npython profiler.\n\n"
      ]
    },
    {
      "cell_type": "code",
      "execution_count": null,
      "metadata": {
        "collapsed": false
      },
      "outputs": [],
      "source": [
        "pr, df = profile(runlocal, as_df=True)\n\nax = df[['namefct', 'cum_tall']].head(n=15).set_index(\n    'namefct').plot(kind='bar', figsize=(8, 3), rot=15)\nax.set_title(\"Simple profiling\")\nfor la in ax.get_xticklabels():\n    la.set_horizontalalignment('right')\nplt.show()"
      ]
    }
  ],
  "metadata": {
    "kernelspec": {
      "display_name": "Python 3",
      "language": "python",
      "name": "python3"
    },
    "language_info": {
      "codemirror_mode": {
        "name": "ipython",
        "version": 3
      },
      "file_extension": ".py",
      "mimetype": "text/x-python",
      "name": "python",
      "nbconvert_exporter": "python",
      "pygments_lexer": "ipython3",
      "version": "3.9.1"
    }
  },
  "nbformat": 4,
  "nbformat_minor": 0
}