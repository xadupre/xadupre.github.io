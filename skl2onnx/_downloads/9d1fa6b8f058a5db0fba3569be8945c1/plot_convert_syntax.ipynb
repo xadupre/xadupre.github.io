{
  "cells": [
    {
      "cell_type": "code",
      "execution_count": null,
      "metadata": {
        "collapsed": false
      },
      "outputs": [],
      "source": [
        "%matplotlib inline"
      ]
    },
    {
      "cell_type": "markdown",
      "metadata": {},
      "source": [
        "\n\nDifferent ways to convert a model\n=================================\n\nThis example leverages some code added to implement custom converters\nin an easy way.\n    \n\nPredict with onnxruntime\n++++++++++++++++++++++++\n\nSimple function to check the converted model\nworks fine.\n"
      ]
    },
    {
      "cell_type": "code",
      "execution_count": null,
      "metadata": {
        "collapsed": false
      },
      "outputs": [],
      "source": [
        "import numpy as np\nfrom sklearn.base import BaseEstimator, TransformerMixin\nfrom sklearn.cluster import KMeans\nfrom sklearn.pipeline import make_pipeline\nfrom onnxruntime import InferenceSession\nfrom skl2onnx import convert_sklearn, to_onnx, wrap_as_onnx_mixin\nfrom skl2onnx.common.data_types import FloatTensorType\nfrom skl2onnx.algebra.onnx_ops import OnnxSub, OnnxDiv\nfrom skl2onnx.algebra.onnx_operator_mixin import OnnxOperatorMixin\nfrom onnxruntime import InferenceSession\n\n\ndef predict_with_onnxruntime(onx, X):\n    sess = InferenceSession(onx.SerializeToString())\n    input = sess.get_inputs()[0].name\n    res = sess.run(None, {input: X.astype(np.float32)})\n    return res[0]"
      ]
    },
    {
      "cell_type": "markdown",
      "metadata": {},
      "source": [
        "Simple KMeans\n+++++++++++++\n\nThe first way: :func:`convert_sklearn`.\n\n"
      ]
    },
    {
      "cell_type": "code",
      "execution_count": null,
      "metadata": {
        "collapsed": false
      },
      "outputs": [],
      "source": [
        "X = np.arange(20).reshape(10, 2)\ntr = KMeans(n_clusters=2)\ntr.fit(X)\n\nonx = convert_sklearn(tr, initial_types=[('X', FloatTensorType((1, X.shape[1])))])\nprint(predict_with_onnxruntime(onx, X))"
      ]
    },
    {
      "cell_type": "markdown",
      "metadata": {},
      "source": [
        "The second way: :func:`to_onnx`: no need to play with\n:class:`FloatTensorType` anymore.\n\n"
      ]
    },
    {
      "cell_type": "code",
      "execution_count": null,
      "metadata": {
        "collapsed": false
      },
      "outputs": [],
      "source": [
        "X = np.arange(20).reshape(10, 2)\ntr = KMeans(n_clusters=2)\ntr.fit(X)\n\nonx = to_onnx(tr, X.astype(np.float32))\nprint(predict_with_onnxruntime(onx, X))"
      ]
    },
    {
      "cell_type": "markdown",
      "metadata": {},
      "source": [
        "The third way: :func:`wrap_as_onnx_mixin`: wraps\nthe machine learned model into a new class\ninheriting from :class:`OnnxOperatorMixin`.\n\n"
      ]
    },
    {
      "cell_type": "code",
      "execution_count": null,
      "metadata": {
        "collapsed": false
      },
      "outputs": [],
      "source": [
        "X = np.arange(20).reshape(10, 2)\ntr = KMeans(n_clusters=2)\ntr.fit(X)\n\ntr_mixin = wrap_as_onnx_mixin(tr)\n\nonx = tr_mixin.to_onnx(X.astype(np.float32))\nprint(predict_with_onnxruntime(onx, X))"
      ]
    },
    {
      "cell_type": "markdown",
      "metadata": {},
      "source": [
        "The fourth way: :func:`wrap_as_onnx_mixin`: can be called\nbefore fitting the model.\n\n"
      ]
    },
    {
      "cell_type": "code",
      "execution_count": null,
      "metadata": {
        "collapsed": false
      },
      "outputs": [],
      "source": [
        "X = np.arange(20).reshape(10, 2)\ntr = wrap_as_onnx_mixin(KMeans(n_clusters=2))\ntr.fit(X)\n\nonx = tr.to_onnx(X.astype(np.float32))\nprint(predict_with_onnxruntime(onx, X))"
      ]
    },
    {
      "cell_type": "markdown",
      "metadata": {},
      "source": [
        "Pipeline and a custom object\n++++++++++++++++++++++++++++\n\nThis is a simple scaler.\n\n"
      ]
    },
    {
      "cell_type": "code",
      "execution_count": null,
      "metadata": {
        "collapsed": false
      },
      "outputs": [],
      "source": [
        "class CustomOpTransformer(BaseEstimator, TransformerMixin,\n                          OnnxOperatorMixin):\n\n    def __init__(self):\n        BaseEstimator.__init__(self)\n        TransformerMixin.__init__(self)\n\n    def fit(self, X, y=None):\n        self.W_ = np.mean(X, axis=0)\n        self.S_ = np.std(X, axis=0)\n        return self\n\n    def transform(self, X):\n        return (X - self.W_) / self.S_\n        \n    def onnx_shape_calculator(self):        \n        def shape_calculator(operator):\n            operator.outputs[0].type = operator.inputs[0].type\n        return shape_calculator\n    \n    def to_onnx_operator(self, inputs=None, outputs=('Y', )):\n        if inputs is None:\n            raise RuntimeError(\"inputs should contain one name\")\n        i0 = self.get_inputs(inputs, 0)\n        W = self.W_\n        S = self.S_\n        return OnnxDiv(OnnxSub(i0, W), S,\n                       output_names=outputs)"
      ]
    },
    {
      "cell_type": "markdown",
      "metadata": {},
      "source": [
        "Way 1\n\n"
      ]
    },
    {
      "cell_type": "code",
      "execution_count": null,
      "metadata": {
        "collapsed": false
      },
      "outputs": [],
      "source": [
        "X = np.arange(20).reshape(10, 2)\ntr = make_pipeline(CustomOpTransformer (), KMeans(n_clusters=2))\ntr.fit(X)\n\nonx = convert_sklearn(tr, initial_types=[('X', FloatTensorType((1, X.shape[1])))])\nprint(predict_with_onnxruntime(onx, X))"
      ]
    },
    {
      "cell_type": "markdown",
      "metadata": {},
      "source": [
        "Way 2\n\n"
      ]
    },
    {
      "cell_type": "code",
      "execution_count": null,
      "metadata": {
        "collapsed": false
      },
      "outputs": [],
      "source": [
        "X = np.arange(20).reshape(10, 2)\ntr = make_pipeline(CustomOpTransformer(), KMeans(n_clusters=2))\ntr.fit(X)\n\nonx = to_onnx(tr, X.astype(np.float32))\nprint(predict_with_onnxruntime(onx, X))"
      ]
    },
    {
      "cell_type": "markdown",
      "metadata": {},
      "source": [
        "Way 3\n\n"
      ]
    },
    {
      "cell_type": "code",
      "execution_count": null,
      "metadata": {
        "collapsed": false
      },
      "outputs": [],
      "source": [
        "X = np.arange(20).reshape(10, 2)\ntr = make_pipeline(CustomOpTransformer(), KMeans(n_clusters=2))\ntr.fit(X)\n\ntr_mixin = wrap_as_onnx_mixin(tr)\ntr_mixin.to_onnx(X.astype(np.float32))\n\nprint(predict_with_onnxruntime(onx, X))"
      ]
    },
    {
      "cell_type": "markdown",
      "metadata": {},
      "source": [
        "Way 4\n\n"
      ]
    },
    {
      "cell_type": "code",
      "execution_count": null,
      "metadata": {
        "collapsed": false
      },
      "outputs": [],
      "source": [
        "X = np.arange(20).reshape(10, 2)\ntr = wrap_as_onnx_mixin(make_pipeline(CustomOpTransformer(), KMeans(n_clusters=2)))\n\ntr.fit(X)\n\nonx = tr.to_onnx(X.astype(np.float32))\nprint(predict_with_onnxruntime(onx, X))"
      ]
    },
    {
      "cell_type": "markdown",
      "metadata": {},
      "source": [
        "Display the ONNX graph\n++++++++++++++++++++++\n\nFinally, let's see the graph converted with *sklearn-onnx*.\n\n"
      ]
    },
    {
      "cell_type": "code",
      "execution_count": null,
      "metadata": {
        "collapsed": false
      },
      "outputs": [],
      "source": [
        "from onnx.tools.net_drawer import GetPydotGraph, GetOpNodeProducer\npydot_graph = GetPydotGraph(onx.graph, name=onx.graph.name, rankdir=\"TB\",\n                            node_producer=GetOpNodeProducer(\"docstring\", color=\"yellow\",\n                                                            fillcolor=\"yellow\", style=\"filled\"))\npydot_graph.write_dot(\"pipeline_onnx_mixin.dot\")\n\nimport os\nos.system('dot -O -Gdpi=300 -Tpng pipeline_onnx_mixin.dot')\n\nimport matplotlib.pyplot as plt\nimage = plt.imread(\"pipeline_onnx_mixin.dot.png\")\nfig, ax = plt.subplots(figsize=(40, 20))\nax.imshow(image)\nax.axis('off')"
      ]
    },
    {
      "cell_type": "markdown",
      "metadata": {},
      "source": [
        "**Versions used for this example**\n\n"
      ]
    },
    {
      "cell_type": "code",
      "execution_count": null,
      "metadata": {
        "collapsed": false
      },
      "outputs": [],
      "source": [
        "import numpy, sklearn\nprint(\"numpy:\", numpy.__version__)\nprint(\"scikit-learn:\", sklearn.__version__)\nimport onnx, onnxruntime, skl2onnx\nprint(\"onnx: \", onnx.__version__)\nprint(\"onnxruntime: \", onnxruntime.__version__)\nprint(\"skl2onnx: \", skl2onnx.__version__)"
      ]
    }
  ],
  "metadata": {
    "kernelspec": {
      "display_name": "Python 3",
      "language": "python",
      "name": "python3"
    },
    "language_info": {
      "codemirror_mode": {
        "name": "ipython",
        "version": 3
      },
      "file_extension": ".py",
      "mimetype": "text/x-python",
      "name": "python",
      "nbconvert_exporter": "python",
      "pygments_lexer": "ipython3",
      "version": "3.7.2"
    }
  },
  "nbformat": 4,
  "nbformat_minor": 0
}